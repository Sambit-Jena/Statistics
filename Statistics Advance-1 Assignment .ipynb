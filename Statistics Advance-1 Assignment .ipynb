{
 "cells": [
  {
   "cell_type": "markdown",
   "id": "78a8e2f0-392b-4ed9-82ef-0850ba14ac91",
   "metadata": {},
   "source": [
    "## Q1. What is the Probability density function?"
   ]
  },
  {
   "cell_type": "markdown",
   "id": "e5aa9952-88a1-43a2-b5cf-ff1012ee7616",
   "metadata": {},
   "source": [
    "\n",
    "A Probability Density Function (PDF) is a concept commonly used in statistics and probability theory. It's a function that describes the likelihood of a continuous random variable taking on a particular value within a certain range. In simpler terms, it gives us the relative likelihood of different outcomes in a continuous probability distribution."
   ]
  },
  {
   "cell_type": "markdown",
   "id": "db89da8c-fd29-4c9b-baf7-0ea9e81b4625",
   "metadata": {},
   "source": [
    "## Q2. What are the types of Probability distribution?"
   ]
  },
  {
   "cell_type": "markdown",
   "id": "382011dc-3ac0-476e-895e-a1d510e2fa72",
   "metadata": {},
   "source": [
    "Probability distributions are mathematical functions that describe the likelihood of different outcomes in a random experiment or process. There are several types of probability distributions, each suited for different types of random variables and scenarios. Here are some of the most common types:\n",
    "* Normal Distribution \n",
    "* Uniform Distribution \n",
    "* Binomial Distribution\n",
    "* Exponential Distribution\n",
    "* Poisson Distribution\n",
    "* Chi-Square Distribution\n",
    "* F, student-t, t, z-Distribution\n",
    "etc."
   ]
  },
  {
   "cell_type": "markdown",
   "id": "9962a163-1d53-45ce-8e7b-624aa47043d9",
   "metadata": {},
   "source": [
    "## Q3. Write a Python function to calculate the probability density function of a normal distribution with given mean and standard deviation at a given point."
   ]
  },
  {
   "cell_type": "code",
   "execution_count": 1,
   "id": "a0eb63d4-bf80-488f-bdd1-f357dcbd8fd9",
   "metadata": {},
   "outputs": [],
   "source": [
    "import math\n",
    "\n",
    "def normal_pdf(x, mu, sigma):\n",
    "\n",
    "    coefficient = 1 / (sigma * math.sqrt(2 * math.pi))\n",
    "    exponent = -0.5 * ((x - mu) / sigma)**2\n",
    "    pdf_value = coefficient * math.exp(exponent)\n",
    "    return pdf_value"
   ]
  },
  {
   "cell_type": "code",
   "execution_count": 2,
   "id": "20b3b33a-53fb-4805-8cb2-2d987e0cc302",
   "metadata": {},
   "outputs": [
    {
     "name": "stdout",
     "output_type": "stream",
     "text": [
      "PDF at 1.5 = 0.12951759566589174\n"
     ]
    }
   ],
   "source": [
    "mean = 0\n",
    "std_dev = 1\n",
    "point = 1.5\n",
    "\n",
    "pdf_at_point = normal_pdf(point, mean, std_dev)\n",
    "print(f\"PDF at {point} = {pdf_at_point}\")\n"
   ]
  },
  {
   "cell_type": "markdown",
   "id": "14238420-9cb8-4394-8c23-8ac99b4dde62",
   "metadata": {},
   "source": [
    "## Q4. What are the properties of Binomial distribution? Give two examples of events where binomial distribution can be applied."
   ]
  },
  {
   "cell_type": "markdown",
   "id": "bbd4387e-7447-436c-9ad7-6d57c4779c98",
   "metadata": {
    "jp-MarkdownHeadingCollapsed": true,
    "tags": []
   },
   "source": [
    "1. Binomial distribution is applicable when the trials are independent and each trial has just two outcomes success and failure. It is applied in coin tossing experiments, sampling inspection plan, genetic experiments and so on.\n",
    "\n",
    "2. Binomial distribution is known as bi-parametric distribution as it is characterized by two parameters n and p. This means that if the values of n and p are known, then the distribution is known completely.\n",
    "\n",
    "3. The mean of the binomial distribution is given by μ = np\n",
    "\n",
    "4. Depending on the values of the two parameters, binomial distribution may be uni-modal or bi-modal. To know the mode of binomial distribution, first we have to find the value of (n + 1)p. \n",
    "\n",
    "(n + 1)p is a non integer ----> Uni-modal\n",
    "\n",
    "Here, the mode  =  the largest integer contained in  (n+1)p\n",
    "\n",
    "(n + 1)p is a integer ----> Bi-modal \n",
    "\n",
    "Here, the mode  =  (n + 1)p, (n + 1)p - 1\n",
    "\n",
    "5. The variance of the binomial distribution is given by σ2 = npq\n",
    "\n",
    "6. Since p and q are numerically less than or equal to 1, npq < np. That is, variance of a binomial variable is always less than its mean.\n",
    "\n",
    "7. Variance of binomial variable X attains its maximum value at p = q = 0.5 and this maximum value is n/4.\n",
    "\n",
    "8. Additive property of binomial distribution.\n",
    "Let X and Y be the two independent binomial variables. \n",
    "X is having the parameters n1 and p \n",
    "and Y is having the parameters n2 and p. Then (X + Y) will also be a binomial variable with the parameters (n1 + n2) and p\n",
    "\n",
    "#### uses:\n",
    "* This distribution pattern is used in statistics but has implications in finance and other fields. Banks may use it to estimate the likelihood of a particular borrower defaulting, how much money to lend, and the amount to keep in reserve.\n",
    "* Manufacturing company uses binomial distribution to detect the defective goods or items.\n",
    "* In clinical trail binomial trial is used to detect the effectiveness of the drug.\n",
    "* Moreover binomial trail is used in various field such as market research."
   ]
  },
  {
   "cell_type": "markdown",
   "id": "681316df-8740-4eb2-9ad6-09622d41c861",
   "metadata": {},
   "source": [
    "## Q5. Generate a random sample of size 1000 from a binomial distribution with probability of success 0.4 and plot a histogram of the results using matplotlib."
   ]
  },
  {
   "cell_type": "code",
   "execution_count": 3,
   "id": "0c6c9d5d-225a-4961-8ce8-32163ca5a435",
   "metadata": {},
   "outputs": [],
   "source": [
    "import numpy as np\n",
    "import matplotlib.pyplot as plt\n",
    "\n",
    "sample_size = 1000\n",
    "probability_of_success = 0.4\n",
    "number_of_trials = 1\n",
    "\n",
    "random_sample = np.random.binomial(number_of_trials, probability_of_success, sample_size)\n"
   ]
  },
  {
   "cell_type": "code",
   "execution_count": 5,
   "id": "eb5bb9d4-ec64-4622-8e41-c56ecca832b2",
   "metadata": {},
   "outputs": [
    {
     "data": {
      "image/png": "[encoded data removed]",
      "text/plain": [
       "<Figure size 640x480 with 1 Axes>"
      ]
     },
     "metadata": {},
     "output_type": "display_data"
    }
   ],
   "source": [
    "# Plot histogram\n",
    "plt.hist(random_sample, bins=np.arange(0, number_of_trials + 2) - 0.5, align='mid', rwidth=0.8, density=True)\n",
    "plt.xlabel('Number of Successes')\n",
    "plt.ylabel('Probability')\n",
    "plt.title('Histogram of Random Sample from Binomial Distribution')\n",
    "plt.grid(axis='y', alpha=0.75)\n",
    "plt.show()\n"
   ]
  },
  {
   "cell_type": "markdown",
   "id": "68b45788-a771-4b7c-80d2-8f53fbbc75d5",
   "metadata": {},
   "source": [
    "## Q6. Write a Python function to calculate the cumulative distribution function of a Poisson distribution with given mean at a given point."
   ]
  },
  {
   "cell_type": "code",
   "execution_count": 6,
   "id": "bce59ddb-3524-4630-ab04-e402feee7841",
   "metadata": {},
   "outputs": [],
   "source": [
    "import math\n",
    "\n",
    "def poisson_cdf(point, lambdas):\n",
    "\n",
    "    cdf_value = 0\n",
    "    for k in range(point + 1):\n",
    "        cdf_value += (math.exp(-lambdas) * (lambdas ** k)) / math.factorial(k)\n",
    "    return cdf_value"
   ]
  },
  {
   "cell_type": "code",
   "execution_count": 7,
   "id": "84ce370a-59ef-487e-bc22-41b552764c01",
   "metadata": {},
   "outputs": [
    {
     "name": "stdout",
     "output_type": "stream",
     "text": [
      "CDF at 2 = 0.42319008112684353\n"
     ]
    }
   ],
   "source": [
    "mean = 3\n",
    "point = 2\n",
    "\n",
    "cdf_at_point = poisson_cdf(point, mean)\n",
    "print(f\"CDF at {point} = {cdf_at_point}\")"
   ]
  },
  {
   "cell_type": "markdown",
   "id": "5a0ded21-6383-4c34-a2b9-424c46203c7b",
   "metadata": {},
   "source": [
    "## Q7. How Binomial distribution different from Poisson distribution?"
   ]
  },
  {
   "cell_type": "markdown",
   "id": "31cad04f-de5b-4b81-acf8-5c36bdfa7cc5",
   "metadata": {},
   "source": [
    "* Binomial Dstribution:\n",
    "1. Binomial distribution is one in which the probability of repeated number of trials are studied.\n",
    "2. Binomail distribution is Biparametric.\n",
    "3. In this case Only two possible outcomes, i.e. success or failure.\n",
    "4. For Binomial Distribution Mean > Variance.\n",
    "5. Example: Coin tossing experiment.\n",
    "\n",
    "* Poisson Distribution:\n",
    "1. Poisson Distribution gives the count of independent events occur randomly with a given period of time.\n",
    "2. Poisson distribution is Uniparametric.\n",
    "3. In this case Unlimited number of possible outcomes..\n",
    "4. For Poisson Distribution Mean = Variance.\n",
    "5. Example: Printing mistakes/page of a large book.\n"
   ]
  },
  {
   "cell_type": "markdown",
   "id": "d251c4b5-8c4a-432a-84f0-f4c0137b7375",
   "metadata": {},
   "source": [
    "## Q8. Generate a random sample of size 1000 from a Poisson distribution with mean 5 and calculate the sample mean and variance."
   ]
  },
  {
   "cell_type": "code",
   "execution_count": 9,
   "id": "92b26e67-68b0-44e3-9b55-479ddc255dff",
   "metadata": {},
   "outputs": [],
   "source": [
    "import numpy as np\n",
    "\n",
    "sample_size = 1000\n",
    "mean = 5\n",
    "\n",
    "# Generate random sample from Poisson distribution\n",
    "random_sample = np.random.poisson(mean, sample_size)\n",
    "sample_mean = np.mean(random_sample)\n",
    "sample_variance = np.var(random_sample, ddof=1)  "
   ]
  },
  {
   "cell_type": "code",
   "execution_count": 10,
   "id": "ad476832-4609-4e7d-952c-96d5908b5f9c",
   "metadata": {},
   "outputs": [
    {
     "name": "stdout",
     "output_type": "stream",
     "text": [
      "Sample Mean: 5.081\n",
      "Sample Variance: 4.999438438438439\n"
     ]
    }
   ],
   "source": [
    "print(f\"Sample Mean: {sample_mean}\")\n",
    "print(f\"Sample Variance: {sample_variance}\")"
   ]
  },
  {
   "cell_type": "markdown",
   "id": "ee0f8193-a2e2-4097-8685-a2280b1c4ea6",
   "metadata": {},
   "source": [
    "## Q9. How mean and variance are related in Binomial distribution and Poisson distribution?"
   ]
  },
  {
   "cell_type": "markdown",
   "id": "f82da215-fbe1-4cf9-ac49-d6be7704be1b",
   "metadata": {},
   "source": [
    "* Binomial Dstribution:\n",
    "For Binomial Distribution Mean > Variance.\n",
    "\n",
    "* Poisson Distribution:\n",
    "For Poisson Distribution Mean = Variance."
   ]
  },
  {
   "cell_type": "markdown",
   "id": "3222d8a9-c25d-4c34-a532-c8ab44c93390",
   "metadata": {},
   "source": [
    "## Q10. In normal distribution with respect to mean position, where does the least frequent data appear?"
   ]
  },
  {
   "cell_type": "markdown",
   "id": "1b56671b-7c1b-46d0-8e6d-5fc766d81339",
   "metadata": {},
   "source": [
    "In a normal distribution (also known as a Gaussian distribution), the data is symmetrically distributed around the mean. This means that the least frequent data points appear in the tails of the distribution, farthest from the mean.\n",
    "\n",
    "In a standard normal distribution (with a mean of 0 and a standard deviation of 1), the data becomes less frequent as we move farther away from the mean in both the positive and negative directions. The tails of the distribution extend infinitely, but in practice, the vast majority of data points are found within a few standard deviations from the mean, and the data becomes increasingly rare as you move further out into the tails.\n",
    "\n",
    "So, the least frequent data points appear in the extreme tails of the distribution, where the values are farthest from the mean. This is because the probability density in those regions is very low."
   ]
  },
  {
   "cell_type": "code",
   "execution_count": null,
   "id": "6e7e7c48-95d8-4e86-bdaf-7e036f5f5009",
   "metadata": {},
   "outputs": [],
   "source": []
  }
 ],
 "metadata": {
  "kernelspec": {
   "display_name": "Python 3 (ipykernel)",
   "language": "python",
   "name": "python3"
  },
  "language_info": {
   "codemirror_mode": {
    "name": "ipython",
    "version": 3
   },
   "file_extension": ".py",
   "mimetype": "text/x-python",
   "name": "python",
   "nbconvert_exporter": "python",
   "pygments_lexer": "ipython3",
   "version": "3.10.8"
  }
 },
 "nbformat": 4,
 "nbformat_minor": 5
}
