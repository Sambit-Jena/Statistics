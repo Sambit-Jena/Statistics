{
 "cells": [
  {
   "cell_type": "markdown",
   "id": "35666ccd-11bd-4052-9755-ed5ea3c5e59c",
   "metadata": {},
   "source": [
    "## Q1. What are the three measures of central tendency?"
   ]
  },
  {
   "cell_type": "markdown",
   "id": "932cc47e-4eb0-4b50-851e-094d462eeb1e",
   "metadata": {},
   "source": [
    "\n",
    "The three measures of central tendency are:\n",
    "\n",
    "* Mean: It is the average of a set of values, calculated by summing all the values and dividing by the number of data points.\n",
    "\n",
    "* Median: It is the middle value in a dataset when the values are arranged in ascending or descending order. If the dataset has an even number of values, the median is the average of the two middle values.\n",
    "\n",
    "* Mode: It is the value that appears most frequently in a dataset. A dataset can have one mode (unimodal), two modes (bimodal), or more (multimodal). It is possible for a dataset to have no mode if all values occur with equal frequency."
   ]
  },
  {
   "cell_type": "markdown",
   "id": "d9114428-dbf1-4be3-9a1a-e16366fbf152",
   "metadata": {},
   "source": [
    "## Q2. What is the difference between the mean, median, and mode? How are they used to measure the central tendency of a dataset?"
   ]
  },
  {
   "cell_type": "markdown",
   "id": "25dc990f-e9b5-4b13-85c8-380751061211",
   "metadata": {},
   "source": [
    "\n",
    "The mean, median, and mode are three different measures of central tendency used to describe the \"center\" or typical value of a dataset. They represent different ways of summarizing and understanding the distribution of data.\n",
    "\n",
    "* Mean: The mean is often used when dealing with continuous numerical data and provides a sense of the average value in the dataset. It is useful for symmetrical distributions without significant outliers.\n",
    "\n",
    "* Median: The median is used when the dataset contains outliers or is skewed, as it is less influenced by extreme values. It gives a representation of the \"typical\" value that is less affected by extreme observations.\n",
    "\n",
    "* Mode: The mode is employed when dealing with categorical data or when identifying the most frequent value in a dataset. It is also useful for identifying the peaks in a distribution of continuous data."
   ]
  },
  {
   "cell_type": "markdown",
   "id": "49845637-e859-4d8d-9957-f70222c95cb5",
   "metadata": {},
   "source": [
    "## Q3. Measure the three measures of central tendency for the given height data:\n",
    "[178,177,176,177,178.2,178,175,179,180,175,178.9,176.2,177,172.5,178,176.5]"
   ]
  },
  {
   "cell_type": "code",
   "execution_count": 2,
   "id": "91ed0942-c5ca-4db5-a9a2-18f0db8da32e",
   "metadata": {},
   "outputs": [],
   "source": [
    "height_data = [178, 177, 176, 177, 178.2, 178, 175, 179, 180, 175, 178.9, 176.2, 177, 172.5, 178, 176.5]\n",
    "import numpy as np"
   ]
  },
  {
   "cell_type": "code",
   "execution_count": 3,
   "id": "7572c521-156f-4c59-8389-54155d137e02",
   "metadata": {},
   "outputs": [
    {
     "data": {
      "text/plain": [
       "177.01875"
      ]
     },
     "execution_count": 3,
     "metadata": {},
     "output_type": "execute_result"
    }
   ],
   "source": [
    "np.mean(height_data)"
   ]
  },
  {
   "cell_type": "code",
   "execution_count": 4,
   "id": "994f52ec-1188-47c5-82d8-25557e532fd6",
   "metadata": {},
   "outputs": [
    {
     "data": {
      "text/plain": [
       "177.0"
      ]
     },
     "execution_count": 4,
     "metadata": {},
     "output_type": "execute_result"
    }
   ],
   "source": [
    "np.median(height_data)"
   ]
  },
  {
   "cell_type": "code",
   "execution_count": 8,
   "id": "acd6df00-eacd-49ab-81ee-376501e8832f",
   "metadata": {},
   "outputs": [
    {
     "name": "stderr",
     "output_type": "stream",
     "text": [
      "/tmp/ipykernel_84/802727725.py:2: FutureWarning: Unlike other reduction functions (e.g. `skew`, `kurtosis`), the default behavior of `mode` typically preserves the axis it acts along. In SciPy 1.11.0, this behavior will change: the default value of `keepdims` will become False, the `axis` over which the statistic is taken will be eliminated, and the value None will no longer be accepted. Set `keepdims` to True or False to avoid this warning.\n",
      "  stats.mode(height_data)\n"
     ]
    },
    {
     "data": {
      "text/plain": [
       "ModeResult(mode=array([177.]), count=array([3]))"
      ]
     },
     "execution_count": 8,
     "metadata": {},
     "output_type": "execute_result"
    }
   ],
   "source": [
    "from scipy import stats\n",
    "stats.mode(height_data)"
   ]
  },
  {
   "cell_type": "markdown",
   "id": "a6b07cce-e22a-473a-9c4d-1751a9892f11",
   "metadata": {},
   "source": [
    "## Q4. Find the standard deviation for the given data:\n",
    "[178,177,176,177,178.2,178,175,179,180,175,178.9,176.2,177,172.5,178,176.5]"
   ]
  },
  {
   "cell_type": "code",
   "execution_count": 10,
   "id": "b6af9044-22bc-4407-8938-1eb2a62b91ff",
   "metadata": {},
   "outputs": [
    {
     "data": {
      "text/plain": [
       "1.7885814036548633"
      ]
     },
     "execution_count": 10,
     "metadata": {},
     "output_type": "execute_result"
    }
   ],
   "source": [
    "import numpy as np\n",
    "\n",
    "height_data = [178, 177, 176, 177, 178.2, 178, 175, 179, 180, 175, 178.9, 176.2, 177, 172.5, 178, 176.5]\n",
    "standard_deviation = np.std(height_data)\n",
    "standard_deviation"
   ]
  },
  {
   "cell_type": "markdown",
   "id": "60fb5f3d-8273-4a1b-8634-4b02d26b2529",
   "metadata": {},
   "source": [
    "## Q5. How are measures of dispersion such as range, variance, and standard deviation used to describe the spread of a dataset? Provide an example."
   ]
  },
  {
   "cell_type": "markdown",
   "id": "67e00b53-43d3-489d-850a-ba9f721db837",
   "metadata": {},
   "source": [
    "\n",
    "Measures of dispersion, such as range, variance, and standard deviation, are used to describe the spread or variability of a dataset.\n",
    "\n",
    "* Range: The range is the simplest measure of dispersion, calculated as the difference between the maximum and minimum values in the dataset. It provides an indication of the total spread of the data.\n",
    "\n",
    "* Variance: The variance is the average of the squared differences between each data point and the mean of the dataset. It quantifies the average deviation of individual data points from the mean. A higher variance indicates a more spread-out distribution, while a lower variance suggests that the data points are closer to the mean.\n",
    "\n",
    "* Standard Deviation: The standard deviation is the square root of the variance. It measures the dispersion around the mean in the original units of the data, making it more interpretable than variance. Like variance, a higher standard deviation implies more variability, while a lower standard deviation means the data points are closer to the mean."
   ]
  },
  {
   "cell_type": "code",
   "execution_count": 13,
   "id": "625d9c09-cb12-47c4-88d1-fd7542f6f351",
   "metadata": {},
   "outputs": [],
   "source": [
    "#Example:\n",
    "    \n",
    "import numpy as np\n",
    "\n",
    "data = [10, 12, 14, 16, 18]  # Example dataset\n",
    "\n",
    "\n",
    "# range\n",
    "data_range = np.max(data) - np.min(data)\n",
    "\n",
    "# variance\n",
    "data_variance = np.var(data)\n",
    "\n",
    "# standard deviation\n",
    "data_std_deviation = np.std(data)"
   ]
  },
  {
   "cell_type": "code",
   "execution_count": 15,
   "id": "d9710356-2092-487a-bdf9-773aa75b5a91",
   "metadata": {},
   "outputs": [
    {
     "data": {
      "text/plain": [
       "8"
      ]
     },
     "execution_count": 15,
     "metadata": {},
     "output_type": "execute_result"
    }
   ],
   "source": [
    "data_range"
   ]
  },
  {
   "cell_type": "code",
   "execution_count": 16,
   "id": "d0ca1a60-2ae4-4781-99a8-380593f520a8",
   "metadata": {},
   "outputs": [
    {
     "data": {
      "text/plain": [
       "8.0"
      ]
     },
     "execution_count": 16,
     "metadata": {},
     "output_type": "execute_result"
    }
   ],
   "source": [
    "data_variance"
   ]
  },
  {
   "cell_type": "code",
   "execution_count": 17,
   "id": "b0bd2cb7-102d-400c-af5e-cbbafd4ed948",
   "metadata": {},
   "outputs": [
    {
     "data": {
      "text/plain": [
       "2.8284271247461903"
      ]
     },
     "execution_count": 17,
     "metadata": {},
     "output_type": "execute_result"
    }
   ],
   "source": [
    "data_std_deviation"
   ]
  },
  {
   "cell_type": "markdown",
   "id": "c8a4e27c-4ada-4b29-82ea-f4e3d86095d4",
   "metadata": {},
   "source": [
    "## Q6. What is a Venn diagram?"
   ]
  },
  {
   "cell_type": "markdown",
   "id": "27594722-8c6e-49d8-b152-4505ea91fadf",
   "metadata": {},
   "source": [
    "A Venn diagram is a graphical representation used to show the relationships between different sets or groups of items. It consists of overlapping circles, where each circle represents a set, and the overlapping regions represent the intersection of those sets. Venn diagrams are commonly used in mathematics, statistics, logic, and various other fields to visually illustrate set operations and the relationships between different groups or categories.\n",
    "\n",
    "Venn diagrams provide a simple and intuitive way to represent set relationships and are widely used in educational contexts, problem-solving, and data analysis to visualize data with overlapping categories or attributes."
   ]
  },
  {
   "cell_type": "markdown",
   "id": "afebbf2a-ecde-46c4-ad1c-e887772fbd6d",
   "metadata": {},
   "source": [
    "## Q7. For the two given sets A = (2,3,4,5,6,7) & B = (0,2,6,8,10). Find:\n",
    "## (i) A ∩ B\n",
    "## (ii) A ⋃ B"
   ]
  },
  {
   "cell_type": "markdown",
   "id": "22df6f37-5e7b-46cd-8cad-93937831a7f6",
   "metadata": {},
   "source": [
    "Given sets:\n",
    "A = {2, 3, 4, 5, 6, 7}\n",
    "B = {0, 2, 6, 8, 10}\n",
    "\n",
    "(i) A ∩ B (Intersection):\n",
    "The intersection contains the elements that are common to both sets A and B.\n",
    "A ∩ B = {2, 6}\n",
    "\n",
    "(ii) A ⋃ B (Union):\n",
    "The union contains all the unique elements from both sets A and B.\n",
    "A ⋃ B = {0, 2, 3, 4, 5, 6, 7, 8, 10}\n",
    "\n",
    "So, the intersection of sets A and B is {2, 6}, and the union of sets A and B is {0, 2, 3, 4, 5, 6, 7, 8, 10}.\n"
   ]
  },
  {
   "cell_type": "markdown",
   "id": "db0d2bdf-7d3a-49c9-bc11-4b08de436734",
   "metadata": {},
   "source": [
    "## Q8. What do you understand about skewness in data?"
   ]
  },
  {
   "cell_type": "markdown",
   "id": "ea00d1be-3ce8-4e59-8159-bb74a3a14789",
   "metadata": {},
   "source": [
    "\n",
    "Skewness in data refers to the asymmetry or lack of symmetry in the distribution of values. It is a statistical measure that helps us understand the shape of a dataset's distribution and how the data points are spread around the central value.\n",
    "\n",
    "There are three types of skewness:\n",
    "\n",
    "* Positive Skewness (Right Skewness):\n",
    "\n",
    "In a positively skewed distribution, the majority of the data points are concentrated towards the left side of the distribution, and the tail extends towards the right side.\n",
    "The mean of positively skewed data is typically greater than the median, as the long tail on the right side pulls the mean in that direction.\n",
    "* Negative Skewness (Left Skewness):\n",
    "\n",
    "In a negatively skewed distribution, the bulk of the data points are clustered towards the right side of the distribution, and the tail extends towards the left side.\n",
    "The mean of negatively skewed data is typically less than the median, as the long tail on the left side pulls the mean in that direction.\n",
    "* Symmetric Distribution:\n",
    "\n",
    "In a symmetric distribution, the data is evenly distributed on both sides of the central value, and the left and right tails are of similar length.\n",
    "The mean and median are equal in a symmetric distribution."
   ]
  },
  {
   "cell_type": "markdown",
   "id": "e2a11ddf-6b48-4380-a2e6-98d7b2e455cc",
   "metadata": {},
   "source": [
    "## Q9. If a data is right skewed then what will be the position of median with respect to mean?"
   ]
  },
  {
   "cell_type": "markdown",
   "id": "9b268e01-89d1-4cd6-8b35-68d0744c192c",
   "metadata": {},
   "source": [
    "If a dataset is right-skewed, the position of the median will be to the left of the mean. In a right-skewed distribution, the tail of the data extends towards the right side, pulling the mean in that direction. As a result, the mean is greater than the median.\n",
    "\n",
    "in a right-skewed distribution, the median will be to the left of the mean, indicating that the central value of the dataset is closer to the majority of the data points rather than being influenced by the outliers or extreme values present in the tail."
   ]
  },
  {
   "cell_type": "markdown",
   "id": "81966beb-e0d3-4ae4-849c-13741a7b7ca6",
   "metadata": {},
   "source": [
    "## Q10. Explain the difference between covariance and correlation. How are these measures used in statistical analysis?"
   ]
  },
  {
   "cell_type": "markdown",
   "id": "e1ab5a8e-255f-41df-b4df-bb1ab9033b08",
   "metadata": {},
   "source": [
    "Covariance and correlation are both measures used to quantify the relationship between two variables in a dataset. While they are related concepts, they have some key differences in their interpretation and application:\n",
    "\n",
    "* Covariance:\n",
    "\n",
    "Covariance measures the degree to which two variables change together. It indicates the direction of the linear relationship between two variables, whether they increase or decrease together or if one increases while the other decreases.\n",
    "A positive covariance indicates that when one variable increases, the other tends to increase as well. A negative covariance suggests that when one variable increases, the other tends to decrease.\n",
    "\n",
    "* Correlation:\n",
    "\n",
    "Correlation is a standardized version of covariance, which scales the covariance to always fall between -1 and 1. It provides a more interpretable measure of the strength and direction of the linear relationship between two variables.\n",
    "A correlation of +1 indicates a perfect positive linear relationship, a correlation of -1 indicates a perfect negative linear relationship, and a correlation of 0 indicates no linear relationship.\n",
    "\n",
    "* Usage in Statistical Analysis:\n",
    "\n",
    "1. Both covariance and correlation are fundamental measures used in statistical analysis and data exploration to understand the relationship between two variables.\n",
    "2. Covariance is useful in identifying the direction of the relationship between variables. For example, it helps in finance to understand how the returns of two assets move together or in manufacturing to analyze how two process variables affect each other.\n",
    "3. Correlation is widely used in various fields, including finance, economics, social sciences, and natural sciences. It is especially valuable when comparing relationships across different datasets, as it provides a standardized measure of the strength and direction of the relationship.\n",
    "4. In regression analysis, correlation is used to check for multicollinearity among predictor variables. High correlation between predictors may indicate redundant information and can impact the stability and interpretability of the regression model."
   ]
  },
  {
   "cell_type": "markdown",
   "id": "c40523ff-77ab-4f31-876e-9bd1fbd74a7b",
   "metadata": {},
   "source": [
    "## Q11. What is the formula for calculating the sample mean? Provide an example calculation for a dataset."
   ]
  },
  {
   "cell_type": "markdown",
   "id": "eb52d5c2-30ae-48c0-bdaf-12ae3cee9fa4",
   "metadata": {},
   "source": [
    "\n",
    "The formula for calculating the sample mean (often denoted as \"x̄\") is the sum of all the data points divided by the number of data points in the sample. Mathematically, it can be expressed as:\n",
    "\n",
    "Sample Mean (x̄) = (Sum of all data points) / (Number of data points)\n",
    "\n",
    "Let's go through an example to calculate the sample mean for a dataset:\n",
    "\n",
    "Example:\n",
    "Consider the following dataset of exam scores: [85, 90, 78, 92, 88]\n",
    "\n",
    "Sum of data points = 85 + 90 + 78 + 92 + 88 = 433\n",
    "Number of data points = 5\n",
    "\n",
    "Apply the formula to find the sample mean.\n",
    "Sample Mean (x̄) = 433 / 5 = 86.6\n",
    "\n",
    "So, the sample mean for the given dataset is 86.6. This means that the average score in the exam for this sample of students is approximately 86.6."
   ]
  },
  {
   "cell_type": "markdown",
   "id": "18cb4afe-625a-4693-9cd9-1245a1befd5b",
   "metadata": {},
   "source": [
    "## Q12. For a normal distribution data what is the relationship between its measure of central tendency?"
   ]
  },
  {
   "cell_type": "markdown",
   "id": "284b5532-d25b-4aa6-8f29-7a5a0ca88fc7",
   "metadata": {},
   "source": [
    "For a normal distribution, the three measures of central tendency (mean, median, and mode) are all equal. In other words, they have the same value and are located at the center of the normal distribution.\n",
    "\n",
    "In a normal distribution:\n",
    "\n",
    "Mean: The arithmetic mean (average) of the data points is the same as the median and the mode. This is because the normal distribution is symmetric around its center, and the mean is at the exact center of the distribution.\n",
    "\n",
    "Median: The median, which is the middle value in the dataset, is also the same as the mean and mode. As mentioned earlier, the normal distribution is symmetrical, so the middle value is the same as the center of the distribution.\n",
    "\n",
    "Mode: The mode, which is the value that occurs most frequently, is also the same as the mean and median in a normal distribution. Again, due to the symmetry of the normal distribution, the peak of the distribution (mode) aligns with the center.\n"
   ]
  },
  {
   "cell_type": "markdown",
   "id": "34ef95c9-0bff-4a50-8022-19cc5a101a97",
   "metadata": {},
   "source": [
    "## Q13. How is covariance different from correlation?"
   ]
  },
  {
   "cell_type": "markdown",
   "id": "c8d5fd91-12c9-4d99-a55a-c4e4e5460e9b",
   "metadata": {},
   "source": [
    "Covariance and correlation are both measures used to quantify the relationship between two variables, but they are different in their interpretation, scale, and properties:\n",
    "1. \n",
    "* Covariance measures the degree to which two variables change together. It indicates the direction of the linear relationship between two variables, whether they increase or decrease together or if one increases while the other decreases.\n",
    "\n",
    "* Correlation is a standardized version of covariance, which scales the covariance to always fall between -1 and 1. It provides a more interpretable measure of the strength and direction of the linear relationship between two variables.\n",
    "\n",
    "2. \n",
    "* Covariance is not scaled and can take on any value, positive or negative, depending on the direction of the relationship between the variables and the spread of the data.\n",
    "* Correlation, on the other hand, is scaled between -1 and 1. A correlation of +1 indicates a perfect positive linear relationship, a correlation of -1 indicates a perfect negative linear relationship, and a correlation of 0 indicates no linear relationship.\n",
    "\n",
    "3. \n",
    "* Covariance can be positive, negative, or zero. A positive covariance indicates that when one variable increases, the other tends to increase as well. A negative covariance suggests that when one variable increases, the other tends to decrease. A covariance of zero indicates no linear relationship between the variables.\n",
    "* Correlation, being scaled between -1 and 1, has clear properties: +1 indicates a perfect positive linear relationship, -1 indicates a perfect negative linear relationship, and 0 indicates no linear relationship.\n",
    "\n",
    "4. \n",
    "* Covariance is useful in identifying the direction of the relationship between variables. It has applications in finance, engineering, and other fields where understanding the joint behavior of variables is important.\n",
    "* Correlation is widely used in various fields, including finance, economics, social sciences, and natural sciences. It is especially valuable when comparing relationships across different datasets, as it provides a standardized measure of the strength and direction of the relationship."
   ]
  },
  {
   "cell_type": "markdown",
   "id": "81ccb341-1506-4c52-9229-c7e5a20f3a69",
   "metadata": {},
   "source": [
    "## Q14. How do outliers affect measures of central tendency and dispersion? Provide an example."
   ]
  },
  {
   "cell_type": "markdown",
   "id": "52f8590a-17f1-43e9-b832-0de4b123efa7",
   "metadata": {},
   "source": [
    "Outliers can have a significant impact on measures of central tendency (e.g., mean, median, mode) and measures of dispersion (e.g., range, variance, standard deviation). Outliers are extreme values that are significantly different from the rest of the data points in a dataset. Their presence can distort the characteristics of the data and affect the interpretation of statistical measures.\n",
    "\n",
    "* Measures of Central Tendency:\n",
    "\n",
    "1. Mean: The mean is sensitive to outliers because it considers all data points equally. If there are extreme values in the dataset, the mean can be pulled towards them, causing it to no longer represent the typical or central value of the majority of the data.\n",
    "\n",
    "2. Median: The median is less affected by outliers. Since it represents the middle value in the dataset, it is not influenced by extreme values at the tails of the distribution. Therefore, the median is often preferred over the mean when dealing with skewed or outlier-prone data.\n",
    "\n",
    "2. Mode: The mode represents the most frequent value(s) in the dataset. Outliers usually do not impact the mode unless they become the most frequently occurring value, which is rare.\n",
    "\n",
    "* Measures of Dispersion:\n",
    "\n",
    "2. Range: The range, which is the difference between the maximum and minimum values in the dataset, can be significantly affected by outliers. The presence of outliers can lead to an overestimation of the spread of the data.\n",
    "\n",
    "2. Variance and Standard Deviation: Both variance and standard deviation are based on the squared differences between each data point and the mean. Outliers, with their large deviations from the mean, can dramatically increase the variance and standard deviation, indicating greater dispersion in the data than what may actually be true.\n",
    "\n"
   ]
  },
  {
   "cell_type": "code",
   "execution_count": 18,
   "id": "55791db4-87c1-432f-8642-2e7e6bb80beb",
   "metadata": {},
   "outputs": [],
   "source": [
    "#Example:\n",
    "#Consider the following dataset representing the test scores of ten students:\n",
    "\n",
    "students= [85, 92, 78, 86, 95, 88, 82, 89, 91, 200]\n",
    "import numpy as np\n"
   ]
  },
  {
   "cell_type": "code",
   "execution_count": 21,
   "id": "db945b1f-b3ce-48a2-92fd-b7b27df93eae",
   "metadata": {},
   "outputs": [
    {
     "data": {
      "text/plain": [
       "98.6"
      ]
     },
     "execution_count": 21,
     "metadata": {},
     "output_type": "execute_result"
    }
   ],
   "source": [
    "np.mean(students)"
   ]
  },
  {
   "cell_type": "code",
   "execution_count": 22,
   "id": "13187946-ab28-432a-a7d3-8251dbcac159",
   "metadata": {},
   "outputs": [
    {
     "data": {
      "text/plain": [
       "88.5"
      ]
     },
     "execution_count": 22,
     "metadata": {},
     "output_type": "execute_result"
    }
   ],
   "source": [
    "np.median(students)"
   ]
  },
  {
   "cell_type": "code",
   "execution_count": 23,
   "id": "7e7e4de7-e1f6-48cd-b45c-5b9679eb0202",
   "metadata": {},
   "outputs": [
    {
     "name": "stderr",
     "output_type": "stream",
     "text": [
      "/tmp/ipykernel_84/2884056967.py:2: FutureWarning: Unlike other reduction functions (e.g. `skew`, `kurtosis`), the default behavior of `mode` typically preserves the axis it acts along. In SciPy 1.11.0, this behavior will change: the default value of `keepdims` will become False, the `axis` over which the statistic is taken will be eliminated, and the value None will no longer be accepted. Set `keepdims` to True or False to avoid this warning.\n",
      "  stats.mode(students)\n"
     ]
    },
    {
     "data": {
      "text/plain": [
       "ModeResult(mode=array([78]), count=array([1]))"
      ]
     },
     "execution_count": 23,
     "metadata": {},
     "output_type": "execute_result"
    }
   ],
   "source": [
    "from scipy import stats\n",
    "stats.mode(students)"
   ]
  },
  {
   "cell_type": "code",
   "execution_count": 25,
   "id": "d3632e30-4950-4ce9-a04f-bea7e5077d66",
   "metadata": {},
   "outputs": [
    {
     "data": {
      "text/plain": [
       "122"
      ]
     },
     "execution_count": 25,
     "metadata": {},
     "output_type": "execute_result"
    }
   ],
   "source": [
    "# range\n",
    "np.max(students) - np.min(students)"
   ]
  },
  {
   "cell_type": "code",
   "execution_count": 26,
   "id": "268eeea2-7247-4c2f-8519-7e81ec3bb4f8",
   "metadata": {},
   "outputs": [
    {
     "data": {
      "text/plain": [
       "1164.44"
      ]
     },
     "execution_count": 26,
     "metadata": {},
     "output_type": "execute_result"
    }
   ],
   "source": [
    "# variance\n",
    "np.var(students)"
   ]
  },
  {
   "cell_type": "code",
   "execution_count": 27,
   "id": "b9250345-17f2-43e1-8657-823ff6c342dc",
   "metadata": {},
   "outputs": [
    {
     "data": {
      "text/plain": [
       "34.12389192340171"
      ]
     },
     "execution_count": 27,
     "metadata": {},
     "output_type": "execute_result"
    }
   ],
   "source": [
    "# standard deviation\n",
    "np.std(students)"
   ]
  }
 ],
 "metadata": {
  "kernelspec": {
   "display_name": "Python 3 (ipykernel)",
   "language": "python",
   "name": "python3"
  },
  "language_info": {
   "codemirror_mode": {
    "name": "ipython",
    "version": 3
   },
   "file_extension": ".py",
   "mimetype": "text/x-python",
   "name": "python",
   "nbconvert_exporter": "python",
   "pygments_lexer": "ipython3",
   "version": "3.10.8"
  }
 },
 "nbformat": 4,
 "nbformat_minor": 5
}
