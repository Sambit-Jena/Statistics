{
 "cells": [
  {
   "cell_type": "markdown",
   "id": "4c305710-d62c-41a7-944c-f2f5fd58d985",
   "metadata": {},
   "source": [
    "## Q1. What is Statistics?"
   ]
  },
  {
   "cell_type": "markdown",
   "id": "8befc29c-9314-41f1-8421-aaa0f5b5619d",
   "metadata": {},
   "source": [
    "Statistics can be defined as the study of the collection, analysis, interpretation, presentation, and organization of data. In simple words, it is a mathematical tool that is used to collect and summarize data."
   ]
  },
  {
   "cell_type": "markdown",
   "id": "e9b14994-2bea-46c3-8775-37dc6bdd3ead",
   "metadata": {},
   "source": [
    "## Q2. Define the different types of statistics and give an example of when each type might be used."
   ]
  },
  {
   "cell_type": "markdown",
   "id": "bfe92142-313b-4070-ba6c-9c46934de4f6",
   "metadata": {},
   "source": [
    "The two major areas of statistics are known as descriptive statistics, and Inferential Statistics.\n",
    "\n",
    "#### Descriptive Statistics:\n",
    "Descriptive statistics mostly focus on the central tendency, variability, and distribution of sample data. Central tendency means the estimate of the characteristics, a typical element of a sample or population. It includes descriptive statistics such as mean, median, and mode.\n",
    "\n",
    "#### Inferential Statistics\n",
    "Inferential statistics are tools that statisticians use to draw conclusions about the characteristics of a population, drawn from the characteristics of a sample, and to determine how certain they can be of the reliability of those conclusions.\n",
    "For example, point estimation, Hypothesis testing and confidence interval"
   ]
  },
  {
   "cell_type": "markdown",
   "id": "0f4bc3a3-3d67-4aaa-a42e-437104be8732",
   "metadata": {},
   "source": [
    "## Q3. What are the different types of data and how do they differ from each other? Provide an example of each type of data."
   ]
  },
  {
   "cell_type": "markdown",
   "id": "14d885b0-5e10-4b47-81e0-100889e7fea4",
   "metadata": {},
   "source": [
    "There are two type of data which discuss below:\n",
    "#### Qualitative data\n",
    "Qualitative data is non-statistical and is typically unstructured or semi-structured. This data isn't necessarily measured using hard numbers you use to develop graphs and charts. Instead, it is categorized based on properties, attributes, labels, and other identifiers.\n",
    " Example :\n",
    "Product reviews, \n",
    "Interview transcripts, \n",
    "Texts and documents, \n",
    "Customer testimonials, \n",
    "Notes and observations, \n",
    "Audio and video recordings, \n",
    "Survey and questionnaire labels.\n",
    "\n",
    "#### quantitative data:\n",
    "Quantitative data is statistical and typically structured – meaning it is more rigid and defined. This data type is measured using numbers and values, making it a more suitable candidate for data analysis.\n",
    " Example:\n",
    "Calculations (annual revenue)\n",
    ", Measurements (height, width, and weight), \n",
    "Counts (the number of people who signed up for the webinar), \n",
    "Projections (predicted revenue increase as a percentage during a fiscal year)."
   ]
  },
  {
   "cell_type": "markdown",
   "id": "87cdffeb-34f3-4a15-9c22-c2d70c2666be",
   "metadata": {},
   "source": [
    "## Q4. Categorise the following datasets with respect to quantitative and qualitative data types:\n",
    "## (i) Grading in exam: A+, A, B+, B, C+, C, D, E\n",
    "## (ii) Colour of mangoes: yellow, green, orange, red\n",
    "## (iii) Height data of a class: [178.9, 179, 179.5, 176, 177.2, 178.3, 175.8,...]\n",
    "## (iv) Number of mangoes exported by a farm: [500, 600, 478, 672, ...]"
   ]
  },
  {
   "cell_type": "markdown",
   "id": "8f34aa7a-ca50-468a-8b30-0ec0defaf1a5",
   "metadata": {},
   "source": [
    "* (i) Grading in exam: A+, A, B+, B, C+, C, D, E - Qulitative\n",
    "* (ii) Colour of mangoes: yellow, green, orange, red - Qualitative\n",
    "* (iii) Height data of a class: [178.9, 179, 179.5, 176, 177.2, 178.3, 175.8,...] - Quantitative\n",
    "* (iv) Number of mangoes exported by a farm: [500, 600, 478, 672, ...] - Quantitative"
   ]
  },
  {
   "cell_type": "markdown",
   "id": "070ebea1-5e8a-434d-9f0d-0d6c1d95dbea",
   "metadata": {},
   "source": [
    "## Q5. Explain the concept of levels of measurement and give an example of a variable for each level."
   ]
  },
  {
   "cell_type": "markdown",
   "id": "a016c7fa-d578-409a-927b-76519a22af4c",
   "metadata": {},
   "source": [
    "The concept of levels of measurement, also known as scales of measurement, refers to the different ways data can be measured and categorized. The four levels of measurement are nominal, ordinal, interval, and ratio.\n",
    "\n",
    "#### Nominal Level:\n",
    "Nominal data are used to label variables where there is no quantitative value and has no order. So, if you change the order of the value then the meaning will remain the same.\n",
    " Example:\n",
    "   * What languages do you speak?\n",
    "\n",
    "English, \n",
    "German, \n",
    "French, \n",
    "Punjabi\n",
    " \n",
    "  * What’s your nationality?\n",
    "\n",
    "American, \n",
    "Indian, \n",
    "Japanese, \n",
    "German.\n",
    "\n",
    "\n",
    "#### Ordinal Level:\n",
    "At the ordinal level, data is categorized into distinct groups, and the categories have a natural order or ranking. However, the intervals between the categories are not known or meaningful.\n",
    "Example: \n",
    "  * Opinion\n",
    "\n",
    "Agree,\n",
    "Disagree,\n",
    "Mostly agree,\n",
    "Neutral,\n",
    "Mostly disagree\n",
    " \n",
    "\n",
    "  * Time of day\n",
    "\n",
    "Morning,\n",
    "Noon,\n",
    "Night\n",
    "\n",
    "#### Interval Level:\n",
    "At the interval level, data is measured with equal intervals between values, but there is no true zero point. Arithmetic operations of addition and subtraction are meaningful, but multiplication and division are not.\n",
    "   * Temperature (°C or F, but not Kelvin)\n",
    "\n",
    "   * Dates (1066, 1492, 1776, etc.)\n",
    "\n",
    "   * Time interval on a 12-hour clock (6 am, 6 pm)\n",
    "#### Ratio Level:\n",
    "At the ratio level, data is measured with equal intervals between values, and it has a true zero point. All arithmetic operations (addition, subtraction, multiplication, and division) are meaningful.\n",
    "  * Age (from 0 years to 100+)\n",
    "\n",
    "  * Temperature (in Kelvin, but not °C or F)\n",
    "\n",
    "  * Distance (measured with a ruler or any other assessing device)\n",
    "\n",
    "  * Time interval (measured with a stop-watch or similar)"
   ]
  },
  {
   "cell_type": "markdown",
   "id": "53135419-24bc-486c-a215-7e8fded63d8d",
   "metadata": {},
   "source": [
    "## Q6. Why is it important to understand the level of measurement when analyzing data? Provide an example to illustrate your answer."
   ]
  },
  {
   "cell_type": "markdown",
   "id": "348b2f0c-cb2e-42eb-8d0f-e0f333e1dfbe",
   "metadata": {},
   "source": [
    "Understanding the level of measurement is crucial when analyzing data because it determines the type of statistical analysis that can be applied and the appropriate interpretation of the results. Different levels of measurement have different properties, and using the wrong statistical analysis can lead to incorrect conclusions or misleading interpretations."
   ]
  },
  {
   "cell_type": "markdown",
   "id": "1e9cfc8e-331b-44ed-9503-effa500ab7ba",
   "metadata": {},
   "source": [
    "Example: Examining the Effect of Different Training Programs on Employee Performance\n",
    "\n",
    "Suppose a company conducts a study to assess the impact of various training programs on the performance of its employees. The company measures employee performance using different metrics:\n",
    "\n",
    "* Training Program Satisfaction: Measured on a scale from 1 to 5 (1 = Not Satisfied, 5 = Very Satisfied etc)\n",
    "* Number of Training Hours Completed: Count of hours spent on training\n",
    "* Performance Rating: Employee performance rating on a scale from 1 to 10 (1 = Poor, 10 = Excellent)\n",
    "* Salary: Measured in dollars (e.g., $40,000, $50,000, $60,000)\n",
    "* Now, let's consider the importance of understanding the level of measurement for each variable:\n",
    "\n",
    "if we analyize the above data then we can find the following result.\n",
    "\n",
    "Training Program Satisfaction (Ordinal Level)\n",
    "\n",
    "Number of Training Hours Completed (Ratio Level):\n",
    "\n",
    "\n",
    "Performance Rating (Interval Level):\n",
    "\n",
    "\n",
    "Salary (Ratio Level):\n",
    "\n",
    "\n",
    "In this example, understanding the level of measurement for each variable allows the company to choose appropriate statistical methods, summarize data accurately, and make valid inferences about the effects of different training programs on employee performance. "
   ]
  },
  {
   "cell_type": "markdown",
   "id": "d7f8ff6d-52e0-4458-90c5-54cd2fee6e11",
   "metadata": {},
   "source": [
    "## Q7. How nominal data type is different from ordinal data type."
   ]
  },
  {
   "cell_type": "markdown",
   "id": "41c9956b-b5c6-4161-bb8a-6e93f6384b42",
   "metadata": {},
   "source": [
    "The key distinction between nominal data and ordinal data lies in the nature of the data's organization and the level of information conveyed by the categories. Nominal data consists of unordered, exclusive categories with no inherent ranking, while ordinal data involves ordered categories where relative comparisons are possible but precise differences are not well-defined.\n",
    "\n",
    "#### Nominal data:\n",
    "It is defined as the data type that is used for naming or labeling variables.\n",
    "##### peoperties:\n",
    "* Classifies the data into named groups without any quantitative meaning. i.e., it divides variables into mutually exclusive and labeled categories.\n",
    "* Statistical tests like chi-square goodness of fit and chi-square test of independence are used to analyze the nominal data.\n",
    "* Frequency distribution and mode are used to analyze nominal data.\n",
    "* Nominal variables can be coded with numerical values (arbitrary order), but they can’t be used for arithmetic operations.\n",
    "Example:\n",
    "Blood Type: A, B, O, AB\n",
    "Sex: Male, Female\n",
    "Marital Status: Single, Married, Divorced\n",
    "\n",
    "#### Ordinal data:\n",
    "Ordinal Data classifies variables that have a natural order or rank.\n",
    "##### peoperties:\n",
    "* Ordinal data can be presented in tabular and graphical format\n",
    "* Frequency distribution, mode, median, and range are used to analyze Ordinal Data.\n",
    "* Statistical tests like Spearman’s rho correlation test, mood’s median test, etc., are used to analyze the data.\n",
    "Example:\n",
    "Grades: A, B, C, D, F\n",
    "Rating: Worst, Poor, Neutral, Good, Excellent\n",
    "Income Group: High, Medium, Low\n",
    "Education: 12th, Graduate, Post-Graduate, PhD"
   ]
  },
  {
   "cell_type": "markdown",
   "id": "1ee49feb-9091-46c8-95b2-6fb1e6dbeb82",
   "metadata": {},
   "source": [
    "## Q8. Which type of plot can be used to display data in terms of range?"
   ]
  },
  {
   "cell_type": "markdown",
   "id": "71b88ea9-e462-4f00-947a-657fe19e0121",
   "metadata": {},
   "source": [
    "To display data in terms of range, a type of plot that is commonly used is the \"range plot\". Range plots are useful when you want to visualize the spread or variability of data points within a given specific dataset.\n",
    "\n",
    "A range plot typically shows the minimum and maximum values of the data points that are present in the dataset, as well as any additional summary statistics like quartiles or standard deviations, to provide a clear picture of the discriptive statistics.\n",
    "\n",
    "The most common form of a range plot is the box plot, which visually displays the median, quartiles, and potential outliers. The box represents the interquartile range (IQR), which spans from the 25th percentile (Q1) to the 75th percentile (Q3). The whiskers extend from the minimum value to Q1 and from Q3 to the maximum value. Outliers, if present, are plotted individually as data points beyond the whiskers.\n",
    "\n",
    "Box plots are particularly useful when comparing the distribution and spread of data among different groups or categories.\n",
    "\n",
    "Other types of range plots include the range-bar chart, which displays the minimum and maximum values as bars with a line connecting them to represent the range, and the range-area chart, which uses filled areas between the minimum and maximum lines to show the range.\n"
   ]
  },
  {
   "cell_type": "markdown",
   "id": "27f5e8ad-39e5-48a3-9cd4-292908b73dc2",
   "metadata": {},
   "source": [
    "## Q9. Describe the difference between descriptive and inferential statistics. Give an example of each type of statistics and explain how they are used."
   ]
  },
  {
   "cell_type": "markdown",
   "id": "dd892698-b950-4a30-b74f-a60bd22b6681",
   "metadata": {},
   "source": [
    "Descriptive Statistics and Inferential Statistics are two fundamental branches of statistics used to analyze and interpret data.\n",
    "1. Descriptive Statistics:\n",
    "Descriptive statistics involves the use of methods and techniques to summarize and describe the main features of a dataset without making any generalizations beyond the data itself. It aims to provide a concise and meaningful summary of the data, allowing for easy interpretation and understanding for the user.\n",
    "\n",
    "* Example: Suppose we have a dataset representing the heightsvof 50 students in a class. Descriptive statistics can be used to calculate summary measures like the mean height, median height, standard deviation, minimum and maximum heights, and the distribution of heights in the class.\n",
    "\n",
    "* Use: Descriptive statistics help researchers and analysts to understand the basic characteristics of a dataset, identify patterns, detect outliers, and visualize data using graphs and charts. It is useful for presenting and communicating data to a broader audience in a more manageable and understandable form.\n",
    "\n",
    "2. Inferential Statistics:\n",
    "Inferential statistics involves the use of data from a sample to make inferences or draw conclusions about a larger population. It goes beyond the observed data and involves making predictions or testing hypotheses based on the sample data.\n",
    "\n",
    "* Example: Continuing with the previous example, suppose we want to know if the average height of students in the class is representative of the average height of all students in the school. By taking a random sample of students from the school, calculating the mean height of the sample, and using inferential statistics, we can estimate the population mean and assess how confident we are about that estimation.\n",
    "\n",
    "* Use: Inferential statistics is crucial in research and decision-making processes. It allows researchers to make generalizations about populations based on limited sample data, conduct hypothesis tests to determine the significance of relationships, estimate population parameters, and make predictions about future outcomes."
   ]
  },
  {
   "cell_type": "markdown",
   "id": "c660e4f8-2de1-4e8b-b5e8-71d29483c378",
   "metadata": {},
   "source": [
    "## Q10. What are some common measures of central tendency and variability used in statistics? Explain how each measure can be used to describe a dataset."
   ]
  },
  {
   "cell_type": "markdown",
   "id": "262b78fc-c5c4-41dd-ac0c-173b2b23718e",
   "metadata": {},
   "source": [
    "\n",
    "In statistics, measures of central tendency and variability are used to describe the characteristics of a dataset. Let's discuss some of them.\n",
    "\n",
    "* Measures of Central Tendency:\n",
    "\n",
    "1. Mean:\n",
    "The mean is the arithmetic average of a set of values. It is calculated by summing all the values and dividing the sum by the total number of data points.\n",
    "  Use: The mean provides a measure of the \"typical\" or \"average\" value in the dataset. It is sensitive to extreme values (outliers) and may not represent the center well if the data is skewed.\n",
    "  \n",
    "2. Median:\n",
    "The median is the middle value when the data is arranged in ascending or descending order. If the dataset has an even number of observations, the median is the average of the two middle values.\n",
    "  Use: The median is a robust measure of central tendency that is less affected by extreme values. It is particularly useful when dealing with skewed data or datasets with outliers.\n",
    "  \n",
    "3. Mode:\n",
    "The mode is the value that appears most frequently in the dataset.\n",
    " Use: The mode is useful for describing the most common or frequently occurring value in a dataset. It is often used for categorical data but can also be applied to numerical data.\n",
    " \n",
    "* Measures of Variability:\n",
    "\n",
    "1. Range:\n",
    "The range is the difference between the maximum and minimum values in the dataset.\n",
    " Use: The range provides a simple measure of the spread of data. However, it is sensitive to outliers and may not capture the entire variability of the dataset.\n",
    " \n",
    "2. Variance:\n",
    "Variance measures the average squared deviation of each data point from the mean. It is calculated by summing the squared differences between each data point and the mean, divided by the total number of data points.\n",
    " Use: Variance quantifies the overall spread or dispersion of the dataset. It is widely used in statistical analysis and forms the basis for other measures like the standard deviation.\n",
    " \n",
    "3. Standard Deviation:\n",
    "The standard deviation is the square root of the variance. It represents the average amount of deviation or dispersion from the mean.\n",
    " AssignmentUse: The standard deviation provides a more interpretable measure of variability than variance since it is in the same units as the original data. It is a commonly used measure of spread and is helpful in understanding the distribution of data."
   ]
  }
 ],
 "metadata": {
  "kernelspec": {
   "display_name": "Python 3 (ipykernel)",
   "language": "python",
   "name": "python3"
  },
  "language_info": {
   "codemirror_mode": {
    "name": "ipython",
    "version": 3
   },
   "file_extension": ".py",
   "mimetype": "text/x-python",
   "name": "python",
   "nbconvert_exporter": "python",
   "pygments_lexer": "ipython3",
   "version": "3.10.8"
  }
 },
 "nbformat": 4,
 "nbformat_minor": 5
}
