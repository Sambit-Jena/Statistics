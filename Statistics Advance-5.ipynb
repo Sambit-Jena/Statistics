{
 "cells": [
  {
   "cell_type": "markdown",
   "id": "b8b534ab-ece4-49f2-ab5f-1edfd9e71e82",
   "metadata": {},
   "source": [
    "## Q1. Calculate the 95% confidence interval for a sample of data with a mean of 50 and a standard deviation of 5 using Python. Interpret the results."
   ]
  },
  {
   "cell_type": "code",
   "execution_count": 1,
   "id": "15b52704-d933-4fbc-95b1-6aeb16eeae5a",
   "metadata": {},
   "outputs": [
    {
     "name": "stdout",
     "output_type": "stream",
     "text": [
      "Confidence Interval: (49.02001800772997, 50.97998199227003)\n"
     ]
    }
   ],
   "source": [
    "import scipy.stats as stats\n",
    "\n",
    "mean = 50\n",
    "std_dev = 5\n",
    "confidence_level = 0.95\n",
    "sample_size = 100 \n",
    "\n",
    "standard_error = std_dev / (sample_size ** 0.5)\n",
    "\n",
    "# Calculate the margin of error\n",
    "margin_of_error = stats.norm.ppf(1 - (1 - confidence_level) / 2) * standard_error\n",
    "\n",
    "# Calculate the confidence interval\n",
    "lower_bound = mean - margin_of_error\n",
    "upper_bound = mean + margin_of_error\n",
    "\n",
    "print(\"Confidence Interval:\", (lower_bound, upper_bound))\n"
   ]
  },
  {
   "cell_type": "markdown",
   "id": "d2ca7569-13cb-4d3e-bb6f-5418eec65953",
   "metadata": {},
   "source": [
    "* Interpretation:\n",
    "The 95% confidence interval for the given data is calculated to be (49.062, 50.938) using the provided sample size. This means that if we were to take multiple samples from the same population and calculate the confidence interval for each sample, approximately 95% of these intervals would contain the true population mean."
   ]
  },
  {
   "cell_type": "markdown",
   "id": "41b3f2aa-c107-4beb-b728-cb80650c9fde",
   "metadata": {},
   "source": [
    "## Q2. Conduct a chi-square goodness of fit test to determine if the distribution of colors of M&Ms in a bag matches the expected distribution of 20% blue, 20% orange, 20% green, 10% yellow, 10% red, and 20% brown. Use Python to perform the test with a significance level of 0.05."
   ]
  },
  {
   "cell_type": "code",
   "execution_count": 2,
   "id": "1319aab7-c7da-468a-91db-be325c1ab7ca",
   "metadata": {},
   "outputs": [
    {
     "name": "stdout",
     "output_type": "stream",
     "text": [
      "Chi-square Statistic: 3.1\n",
      "P-value: 0.5412323332581949\n",
      "Fail to reject the null hypothesis: The distribution matches the expected distribution.\n"
     ]
    }
   ],
   "source": [
    "import numpy as np\n",
    "import scipy.stats as stats\n",
    "\n",
    "# Observed counts of colors in the M&Ms bag\n",
    "observed_counts = np.array([25, 18, 20, 12, 10, 15])  # Example counts for each color\n",
    "\n",
    "# Expected distribution (20% each for blue, orange, green, 10% each for yellow, red, 20% for brown)\n",
    "expected_distribution = np.array([0.20, 0.20, 0.20, 0.10, 0.10, 0.20]) * np.sum(observed_counts)\n",
    "\n",
    "\n",
    "df = len(observed_counts) - 1\n",
    "\n",
    "# Calculate the chi-square statistic and p-value\n",
    "chi2_statistic, p_value = stats.chisquare(observed_counts, expected_distribution, ddof=1)\n",
    "\n",
    "# Significance level\n",
    "alpha = 0.05\n",
    "\n",
    "print(\"Chi-square Statistic:\", chi2_statistic)\n",
    "print(\"P-value:\", p_value)\n",
    "\n",
    "if p_value < alpha:\n",
    "    print(\"Reject the null hypothesis: The distribution does not match the expected distribution.\")\n",
    "else:\n",
    "    print(\"Fail to reject the null hypothesis: The distribution matches the expected distribution.\")\n"
   ]
  },
  {
   "cell_type": "markdown",
   "id": "5b861c2e-0e57-4da2-9ef7-3806f3617a66",
   "metadata": {},
   "source": [
    "## Q3. Use Python to calculate the chi-square statistic and p-value for a contingency table with the following data:\n",
    "##             GroupA  Group B\n",
    "\n",
    "## Outcome 1    20   15\n",
    "## Outcome 2    10   25\n",
    "## Outcome 3    15   20\n",
    "## Interpret the results of the test."
   ]
  },
  {
   "cell_type": "code",
   "execution_count": 6,
   "id": "51c0a573-ebcd-4e63-aa69-594ff33f9f1b",
   "metadata": {},
   "outputs": [
    {
     "name": "stdout",
     "output_type": "stream",
     "text": [
      "Chi-square Statistic: 5.833333333333334\n",
      "P-value: 0.05411376622282158\n",
      "Degrees of Freedom: 2\n",
      "Expected Frequencies:\n",
      "[[15. 20.]\n",
      " [15. 20.]\n",
      " [15. 20.]]\n",
      "Fail to reject the null hypothesis: There is no significant association between the groups and outcomes.\n"
     ]
    }
   ],
   "source": [
    "import numpy as np\n",
    "import scipy.stats as stats\n",
    "\n",
    "# Create the contingency table\n",
    "observed_data = np.array([[20, 15], [10, 25], [15, 20]])\n",
    "\n",
    "# Calculate the chi-square statistic and p-value\n",
    "chi2_statistic, p_value, dof, expected = stats.chi2_contingency(observed_data)\n",
    "\n",
    "print(\"Chi-square Statistic:\", chi2_statistic)\n",
    "print(\"P-value:\", p_value)\n",
    "print(\"Degrees of Freedom:\", dof)\n",
    "print(\"Expected Frequencies:\")\n",
    "print(expected)\n",
    "\n",
    "# Significance level\n",
    "alpha = 0.05\n",
    "\n",
    "if p_value < alpha:\n",
    "    print(\"Reject the null hypothesis: There is a significant association between the groups and outcomes.\")\n",
    "else:\n",
    "    print(\"Fail to reject the null hypothesis: There is no significant association between the groups and outcomes.\")\n"
   ]
  },
  {
   "cell_type": "markdown",
   "id": "f41db119-0c72-4268-8aee-1ab54bccab2b",
   "metadata": {},
   "source": [
    "* interpretation: \n",
    "As we can see here that p- value is greater than the alpha value so that the null hypothesis must be accepted that means there is no significant association between the group and outcomes."
   ]
  },
  {
   "cell_type": "markdown",
   "id": "885713e2-bac9-4daf-bfa6-410ec42f647f",
   "metadata": {},
   "source": [
    "## Q4. A study of the prevalence of smoking in a population of 500 individuals found that 60 individuals smoked. Use Python to calculate the 95% confidence interval for the true proportion of individuals in the population who smoke."
   ]
  },
  {
   "cell_type": "code",
   "execution_count": 7,
   "id": "bd2f28e9-93ee-4485-b7f8-ee008731f514",
   "metadata": {},
   "outputs": [
    {
     "name": "stdout",
     "output_type": "stream",
     "text": [
      "Confidence Interval: (0.09609580000282479, 0.14390419999717521)\n"
     ]
    }
   ],
   "source": [
    "import scipy.stats as stats\n",
    "\n",
    "sample_size = 500\n",
    "observed_smokers = 60\n",
    "\n",
    "# Calculate the sample proportion\n",
    "sample_proportion = observed_smokers / sample_size\n",
    "\n",
    "standard_error = (sample_proportion * (1 - sample_proportion) / sample_size) ** 0.5\n",
    "\n",
    "# Calculate the margin of error\n",
    "z_critical = stats.norm.ppf(0.95)  # 95% confidence level, two-tailed\n",
    "margin_of_error = z_critical * standard_error\n",
    "\n",
    "# Calculate the confidence interval\n",
    "lower_bound = sample_proportion - margin_of_error\n",
    "upper_bound = sample_proportion + margin_of_error\n",
    "\n",
    "print(\"Confidence Interval:\", (lower_bound, upper_bound))\n"
   ]
  },
  {
   "cell_type": "markdown",
   "id": "38a08fab-8b9e-48ef-aa67-3b8f86f04cbc",
   "metadata": {},
   "source": [
    "## Q5. Calculate the 90% confidence interval for a sample of data with a mean of 75 and a standard deviation of 12 using Python. Interpret the results."
   ]
  },
  {
   "cell_type": "code",
   "execution_count": 8,
   "id": "a1e434a6-4dd1-483c-97ae-640e4efd2aab",
   "metadata": {},
   "outputs": [
    {
     "name": "stdout",
     "output_type": "stream",
     "text": [
      "Confidence Interval: (73.02617564765823, 76.97382435234177)\n"
     ]
    }
   ],
   "source": [
    "import scipy.stats as stats\n",
    "\n",
    "mean = 75\n",
    "std_dev = 12\n",
    "confidence_level = 0.90\n",
    "sample_size = 100  \n",
    "\n",
    "# Calculate the standard error of the mean\n",
    "standard_error = std_dev / (sample_size ** 0.5)\n",
    "\n",
    "# Calculate the margin of error\n",
    "z_critical = stats.norm.ppf(1 - (1 - confidence_level) / 2)  # 90% confidence level, two-tailed\n",
    "margin_of_error = z_critical * standard_error\n",
    "\n",
    "# Calculate the confidence interval\n",
    "lower_bound = mean - margin_of_error\n",
    "upper_bound = mean + margin_of_error\n",
    "\n",
    "print(\"Confidence Interval:\", (lower_bound, upper_bound))\n"
   ]
  },
  {
   "cell_type": "markdown",
   "id": "9871f79b-90b8-4410-bbc4-93e898af5858",
   "metadata": {},
   "source": [
    "* Interpretation of the results:\n",
    "The 90% confidence interval for the given data is calculated to be (72.486, 77.514) using the provided sample size. This means that if we were to take multiple samples from the same population and calculate the confidence interval for each sample, approximately 90% of these intervals would contain the true population mean."
   ]
  },
  {
   "cell_type": "markdown",
   "id": "7c79cac7-59ad-4797-8446-fc914a3575a3",
   "metadata": {},
   "source": [
    "## Q6. Use Python to plot the chi-square distribution with 10 degrees of freedom. Label the axes and shade the area corresponding to a chi-square statistic of 15."
   ]
  },
  {
   "cell_type": "code",
   "execution_count": 9,
   "id": "ca413df9-8ff6-4f77-a5d3-57b1498d5d00",
   "metadata": {},
   "outputs": [
    {
     "data": {
      "image/png": "[encoded data removed]",
      "text/plain": [
       "<Figure size 1000x600 with 1 Axes>"
      ]
     },
     "metadata": {},
     "output_type": "display_data"
    }
   ],
   "source": [
    "import numpy as np\n",
    "import matplotlib.pyplot as plt\n",
    "import scipy.stats as stats\n",
    "\n",
    "df = 10\n",
    "\n",
    "# Create a range of chi-square values\n",
    "x = np.linspace(0, 30, 1000)\n",
    "\n",
    "chi2_pdf = stats.chi2.pdf(x, df)\n",
    "\n",
    "# Create the plot\n",
    "plt.figure(figsize=(10, 6))\n",
    "plt.plot(x, chi2_pdf, label=f'Chi-square DF={df}')\n",
    "plt.fill_between(x, chi2_pdf, where=(x >= 0) & (x <= 15), alpha=0.2, color='blue', label='Chi-square < 15')\n",
    "\n",
    "plt.xlabel('Chi-square Value')\n",
    "plt.ylabel('Probability Density')\n",
    "plt.title(f'Chi-square Distribution (DF={df})')\n",
    "plt.legend()\n",
    "plt.grid()\n",
    "plt.show()\n"
   ]
  },
  {
   "cell_type": "markdown",
   "id": "c2f3d301-5d94-4836-ae40-806bf1a547a1",
   "metadata": {},
   "source": [
    "## Q7. A random sample of 1000 people was asked if they preferred Coke or Pepsi. Of the sample, 520 preferred Coke. Calculate a 99% confidence interval for the true proportion of people in the population who prefer Coke."
   ]
  },
  {
   "cell_type": "code",
   "execution_count": 2,
   "id": "1f05ad0d-338c-4cbf-bb01-41fdb946b71c",
   "metadata": {},
   "outputs": [
    {
     "name": "stdout",
     "output_type": "stream",
     "text": [
      "Confidence Interval: (0.4793, 0.5607)\n"
     ]
    }
   ],
   "source": [
    "import scipy.stats as stats\n",
    "import math\n",
    "\n",
    "sample_size = 1000\n",
    "preferred_coke = 520\n",
    "confidence_level = 0.99\n",
    "\n",
    "# Calculate the sample proportion\n",
    "sample_proportion = preferred_coke / sample_size\n",
    "\n",
    "# Calculate the standard error\n",
    "standard_error = math.sqrt((sample_proportion * (1 - sample_proportion)) / sample_size)\n",
    "\n",
    "# Calculate the margin of error using the Z-score\n",
    "z_score = stats.norm.ppf(1 - (1 - confidence_level) / 2)\n",
    "margin_of_error = z_score * standard_error\n",
    "\n",
    "# Calculate the confidence interval\n",
    "lower_bound = sample_proportion - margin_of_error\n",
    "upper_bound = sample_proportion + margin_of_error\n",
    "\n",
    "# Display the confidence interval\n",
    "print(f\"Confidence Interval: ({lower_bound:.4f}, {upper_bound:.4f})\")\n"
   ]
  },
  {
   "cell_type": "markdown",
   "id": "77db3f57-28c1-4ff5-ab20-6485acdd89f0",
   "metadata": {},
   "source": [
    "## Q8. A researcher hypothesizes that a coin is biased towards tails. They flip the coin 100 times and observe 45 tails. Conduct a chi-square goodness of fit test to determine if the observed frequencies match the expected frequencies of a fair coin. Use a significance level of 0.05."
   ]
  },
  {
   "cell_type": "code",
   "execution_count": 4,
   "id": "b321933d-289e-4829-b6fc-7d657fe3456e",
   "metadata": {},
   "outputs": [
    {
     "name": "stdout",
     "output_type": "stream",
     "text": [
      "Fail to reject the null hypothesis: The coin is fair.\n",
      "Chi-square statistic: 1.0000\n",
      "P-value: 0.3173\n"
     ]
    }
   ],
   "source": [
    "import scipy.stats as stats\n",
    "\n",
    "observed_freq_tails = 45\n",
    "observed_freq_heads = 100 - observed_freq_tails\n",
    "expected_freq = 50  # For a fair coin, both heads and tails are expected to have equal frequencies\n",
    "\n",
    "\n",
    "observed_freq = [observed_freq_heads, observed_freq_tails]\n",
    "expected_freq = [expected_freq, expected_freq]\n",
    "\n",
    "# Calculate the chi-square statistic and p-value\n",
    "chi2_stat, p_value = stats.chisquare(f_obs=observed_freq, f_exp=expected_freq)\n",
    "\n",
    "# Significance level\n",
    "significance_level = 0.05\n",
    "\n",
    "# Compare p-value with significance level to make a decision\n",
    "if p_value < significance_level:\n",
    "    print(\"Reject the null hypothesis: The coin is biased.\")\n",
    "else:\n",
    "    print(\"Fail to reject the null hypothesis: The coin is fair.\")\n",
    "\n",
    "print(f\"Chi-square statistic: {chi2_stat:.4f}\")\n",
    "print(f\"P-value: {p_value:.4f}\")\n"
   ]
  },
  {
   "cell_type": "markdown",
   "id": "1ea35866-2594-4512-b482-0d5181b06836",
   "metadata": {},
   "source": [
    "## Q9. A study was conducted to determine if there is an association between smoking status (smoker or non-smoker) and lung cancer diagnosis (yes or no). The results are shown in the contingency table below. Conduct a chi-square test for independence to determine if there is a significant association between  smoking status and lung cancer diagnosis.\n",
    "## Lung Cancer: Yes  No\n",
    "## Smoker          60 140\n",
    "## Non-smoker      30 170"
   ]
  },
  {
   "cell_type": "code",
   "execution_count": 5,
   "id": "ce905ea7-2f0a-41d9-8ded-287608e57381",
   "metadata": {},
   "outputs": [
    {
     "name": "stdout",
     "output_type": "stream",
     "text": [
      "Reject the null hypothesis: There is a significant association between smoking status and lung cancer diagnosis.\n",
      "Chi-square statistic: 12.0573\n",
      "P-value: 0.0005\n",
      "Degrees of freedom: 1\n"
     ]
    }
   ],
   "source": [
    "import scipy.stats as stats\n",
    "\n",
    "# Given  table\n",
    "observed = [[60, 140],\n",
    "            [30, 170]]\n",
    "\n",
    "# Calculate the chi-square statistic, p-value, degrees of freedom, and expected frequencies\n",
    "chi2_stat, p_value, dof, expected = stats.chi2_contingency(observed)\n",
    "\n",
    "# Significance level\n",
    "significance_level = 0.05\n",
    "\n",
    "# Compare p-value with significance level to make a decision\n",
    "if p_value < significance_level:\n",
    "    print(\"Reject the null hypothesis: There is a significant association between smoking status and lung cancer diagnosis.\")\n",
    "else:\n",
    "    print(\"Fail to reject the null hypothesis: There is no significant association between smoking status and lung cancer diagnosis.\")\n",
    "\n",
    "print(f\"Chi-square statistic: {chi2_stat:.4f}\")\n",
    "print(f\"P-value: {p_value:.4f}\")\n",
    "print(f\"Degrees of freedom: {dof}\")\n"
   ]
  },
  {
   "cell_type": "markdown",
   "id": "c2c9ca1c-133f-4297-ba78-61afcb41664b",
   "metadata": {},
   "source": [
    "## Q10. A study was conducted to determine if the proportion of people who prefer milk chocolate, dark chocolate, or white chocolate is different in the U.S. versus the U.K. A random sample of 500 people from the U.S. and a random sample of 500 people from the U.K. were surveyed. The results are shown in the contingency table below. Conduct a chi-square test for independence to determin if there is a significant association between chocolate preference and country of origin.\n",
    "   ##         Milk Chocolate Dark Chocolate White Chocolate\n",
    "\n",
    "## U.S. (n=500)   200 150 150\n",
    "## U.K. (n=500)    225 175 100\n",
    "## Use a significance level of 0.01."
   ]
  },
  {
   "cell_type": "code",
   "execution_count": 7,
   "id": "781e7f37-03f8-4277-9304-8bf81f6ee69f",
   "metadata": {},
   "outputs": [
    {
     "name": "stdout",
     "output_type": "stream",
     "text": [
      "Reject the null hypothesis: There is a significant association between chocolate preference and country of origin.\n",
      "Chi-square statistic: 13.3937\n",
      "P-value: 0.0012\n",
      "Degrees of freedom: 2\n"
     ]
    }
   ],
   "source": [
    "import scipy.stats as stats\n",
    "\n",
    "# Given contingency table\n",
    "observed = [[200, 150, 150],\n",
    "            [225, 175, 100]]\n",
    "\n",
    "# Calculate the chi-square statistic, p-value, degrees of freedom, and expected frequencies\n",
    "chi2_stat, p_value, dof, expected = stats.chi2_contingency(observed)\n",
    "\n",
    "# Significance level\n",
    "significance_level = 0.01\n",
    "\n",
    "# Compare p-value with significance level to make a decision\n",
    "if p_value < significance_level:\n",
    "    print(\"Reject the null hypothesis: There is a significant association between chocolate preference and country of origin.\")\n",
    "else:\n",
    "    print(\"Fail to reject the null hypothesis: There is no significant association between chocolate preference and country of origin.\")\n",
    "\n",
    "print(f\"Chi-square statistic: {chi2_stat:.4f}\")\n",
    "print(f\"P-value: {p_value:.4f}\")\n",
    "print(f\"Degrees of freedom: {dof}\")\n"
   ]
  },
  {
   "cell_type": "markdown",
   "id": "e8529f8a-6f27-4857-9c54-34ab6378b697",
   "metadata": {},
   "source": [
    "## Q11. A random sample of 30 people was selected from a population with an unknown mean and standard deviation. The sample mean was found to be 72 and the sample standard deviation was found to be 10. Conduct a hypothesis test to determine if the population mean is significantly different from 70. Use a significance level of 0.05."
   ]
  },
  {
   "cell_type": "code",
   "execution_count": 12,
   "id": "0af15fb5-93e2-449d-8139-377eb7644e81",
   "metadata": {},
   "outputs": [
    {
     "name": "stdout",
     "output_type": "stream",
     "text": [
      "Fail to reject the null hypothesis: There is no significant difference in population mean.\n",
      "Calculated t-statistic: 1.0954\n",
      "Critical t-value: 2.0452\n",
      "P-value: 0.2823\n"
     ]
    }
   ],
   "source": [
    "import scipy.stats as stats\n",
    "\n",
    "sample_mean = 72\n",
    "sample_stddev = 10\n",
    "population_mean = 70\n",
    "sample_size = 30\n",
    "significance_level = 0.05\n",
    "\n",
    "# Calculate the t-statistic\n",
    "t_statistic = (sample_mean - population_mean) / (sample_stddev / (sample_size ** 0.5))\n",
    "\n",
    "degrees_of_freedom = sample_size - 1\n",
    "\n",
    "# Calculate the critical t-value for the given significance level\n",
    "critical_t_value = stats.t.ppf(1 - significance_level / 2, degrees_of_freedom)\n",
    "\n",
    "# Calculate the p-value\n",
    "p_value = 2 * (1 - stats.t.cdf(abs(t_statistic), degrees_of_freedom))\n",
    "\n",
    "\n",
    "if abs(t_statistic) > critical_t_value or p_value < significance_level:\n",
    "    print(\"Reject the null hypothesis: The population mean is significantly different from 70.\")\n",
    "else:\n",
    "    print(\"Fail to reject the null hypothesis: There is no significant difference in population mean.\")\n",
    "\n",
    "print(f\"Calculated t-statistic: {t_statistic:.4f}\")\n",
    "print(f\"Critical t-value: {critical_t_value:.4f}\")\n",
    "print(f\"P-value: {p_value:.4f}\")\n"
   ]
  }
 ],
 "metadata": {
  "kernelspec": {
   "display_name": "Python 3 (ipykernel)",
   "language": "python",
   "name": "python3"
  },
  "language_info": {
   "codemirror_mode": {
    "name": "ipython",
    "version": 3
   },
   "file_extension": ".py",
   "mimetype": "text/x-python",
   "name": "python",
   "nbconvert_exporter": "python",
   "pygments_lexer": "ipython3",
   "version": "3.10.8"
  }
 },
 "nbformat": 4,
 "nbformat_minor": 5
}
