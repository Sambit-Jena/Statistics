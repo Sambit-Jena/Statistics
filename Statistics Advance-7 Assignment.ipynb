{
 "cells": [
  {
   "cell_type": "markdown",
   "id": "10f10966-0efb-4f2f-8ba1-e496386c5b69",
   "metadata": {},
   "source": [
    "## Q1. Write a Python function that takes in two arrays of data and calculates the F-value for a variance ratio test. The function should return the F-value and the corresponding p-value for the test."
   ]
  },
  {
   "cell_type": "code",
   "execution_count": 2,
   "id": "1710d17e-4d1e-4677-b56c-3f0b0e5e7cc2",
   "metadata": {},
   "outputs": [
    {
     "name": "stdout",
     "output_type": "stream",
     "text": [
      "F-value: 0.26966292134831454\n",
      "P-value: 0.6176148166085887\n"
     ]
    }
   ],
   "source": [
    "import numpy as np\n",
    "from scipy.stats import f_oneway\n",
    "\n",
    "def calculate_f_value_and_p_value(data1, data2):\n",
    "    data1 = np.asarray(data1)\n",
    "    data2 = np.asarray(data2)\n",
    "\n",
    "    f_statistic, p_value = f_oneway(data1, data2)\n",
    "\n",
    "    return f_statistic, p_value\n",
    "\n",
    "# Example:\n",
    "data1 = [5, 8, 10, 12, 15]\n",
    "data2 = [7, 9, 11, 13, 16]\n",
    "f_value, p_value = calculate_f_value_and_p_value(data1, data2)\n",
    "print(\"F-value:\", f_value)\n",
    "print(\"P-value:\", p_value)\n"
   ]
  },
  {
   "cell_type": "markdown",
   "id": "697375cf-6066-4e8c-8317-ba23752fa55a",
   "metadata": {},
   "source": [
    "## Q2. Given a significance level of 0.05 and the degrees of freedom for the numerator and denominator of an F-distribution, write a Python function that returns the critical F-value for a two-tailed test."
   ]
  },
  {
   "cell_type": "code",
   "execution_count": 5,
   "id": "aec8d43c-02b1-457f-9aee-e54d7c46e7e3",
   "metadata": {},
   "outputs": [
    {
     "name": "stdout",
     "output_type": "stream",
     "text": [
      "Critical F-value: 4.474184809637748\n"
     ]
    }
   ],
   "source": [
    "from scipy.stats import f\n",
    "\n",
    "def critical_f_value(alpha, df1, df2):\n",
    "    \n",
    "    critical_f_value = f.ppf(1 - alpha/2, df1, df2)\n",
    "    return critical_f_value\n",
    "\n",
    "# Example:\n",
    "alpha = 0.05  # Significance level\n",
    "df1 = 3      # Degrees of freedom for the numerator\n",
    "df2 = 12     # Degrees of freedom for the denominator\n",
    "\n",
    "critical_f = critical_f_value(alpha, df1, df2)\n",
    "print(\"Critical F-value:\", critical_f)\n"
   ]
  },
  {
   "cell_type": "markdown",
   "id": "f74c37c1-5499-4023-b81a-c656aff48b5b",
   "metadata": {},
   "source": [
    "## Q3. Write a Python program that generates random samples from two normal distributions with known variances and uses an F-test to determine if the variances are equal. The program should output the F- value, degrees of freedom, and p-value for the test."
   ]
  },
  {
   "cell_type": "code",
   "execution_count": 6,
   "id": "4c085dbf-534e-4bc8-aef2-2a1a48a3bf42",
   "metadata": {},
   "outputs": [
    {
     "name": "stdout",
     "output_type": "stream",
     "text": [
      "F-value: 1.8604591977852596\n",
      "Degrees of Freedom (numerator): 1\n",
      "Degrees of Freedom (denominator): 38\n",
      "P-value: 0.1805969636937159\n"
     ]
    }
   ],
   "source": [
    "import numpy as np\n",
    "from scipy.stats import f_oneway\n",
    "\n",
    "def perform_f_test(sample_size, variance1, variance2):\n",
    "\n",
    "    np.random.seed(0) \n",
    "    data1 = np.random.normal(0, np.sqrt(variance1), sample_size)\n",
    "    data2 = np.random.normal(0, np.sqrt(variance2), sample_size)\n",
    "\n",
    "    # Perform the F-test (ANOVA)\n",
    "    f_statistic, p_value = f_oneway(data1, data2)\n",
    "\n",
    "    # Calculate degrees of freedom\n",
    "    df1 = 1  \n",
    "    df2 = 2 * (sample_size - 1)  \n",
    "\n",
    "    return f_statistic, df1, df2, p_value\n",
    "\n",
    "# Example\n",
    "sample_size = 20\n",
    "variance1 = 1.5\n",
    "variance2 = 2.0\n",
    "\n",
    "f_value, df1, df2, p_value = perform_f_test(sample_size, variance1, variance2)\n",
    "print(\"F-value:\", f_value)\n",
    "print(\"Degrees of Freedom (numerator):\", df1)\n",
    "print(\"Degrees of Freedom (denominator):\", df2)\n",
    "print(\"P-value:\", p_value)\n"
   ]
  },
  {
   "cell_type": "markdown",
   "id": "2de0ef87-388a-488f-9e55-9169b7557f95",
   "metadata": {},
   "source": [
    "## Q4.The variances of two populations are known to be 10 and 15. A sample of 12 observations is taken from each population. Conduct an F-test at the 5% significance level to determine if the variances are significantly different."
   ]
  },
  {
   "cell_type": "code",
   "execution_count": 8,
   "id": "00f2bb28-3043-415a-bfe9-0f0236d3a68d",
   "metadata": {},
   "outputs": [
    {
     "name": "stdout",
     "output_type": "stream",
     "text": [
      "Fail to reject the null hypothesis. The variances are not significantly different.\n",
      "F-statistic: 0.6666666666666666\n",
      "P-value: 0.5123897987357996\n"
     ]
    }
   ],
   "source": [
    "import scipy.stats as stats\n",
    "\n",
    "# Known variances\n",
    "variance1 = 10\n",
    "variance2 = 15\n",
    "\n",
    "# Sample sizes\n",
    "n1 = 12\n",
    "n2 = 12\n",
    "\n",
    "# Calculate the F-statistic\n",
    "f_statistic = variance1 / variance2\n",
    "\n",
    "# Degrees of freedom\n",
    "df1 = n1 - 1\n",
    "df2 = n2 - 1\n",
    "\n",
    "# Calculate the p-value for the F-test\n",
    "p_value = 2 * min(stats.f.cdf(f_statistic, df1, df2), 1 - stats.f.cdf(f_statistic, df1, df2))\n",
    "\n",
    "# Significance level\n",
    "alpha = 0.05\n",
    "\n",
    "# Conduct the F-test and check if the p-value is less than alpha\n",
    "if p_value < alpha:\n",
    "    print(\"Reject the null hypothesis. The variances are significantly different.\")\n",
    "else:\n",
    "    print(\"Fail to reject the null hypothesis. The variances are not significantly different.\")\n",
    "\n",
    "print(\"F-statistic:\", f_statistic)\n",
    "print(\"P-value:\", p_value)\n"
   ]
  },
  {
   "cell_type": "markdown",
   "id": "c833990c-d65b-4768-aef6-3a896793edc9",
   "metadata": {},
   "source": [
    "## Q5. A manufacturer claims that the variance of the diameter of a certain product is 0.005. A sample of 25 products is taken, and the sample variance is found to be 0.006. Conduct an F-test at the 1% significance level to determine if the claim is justified."
   ]
  },
  {
   "cell_type": "code",
   "execution_count": 9,
   "id": "2d32f26e-5399-4973-9e0a-55852cfb1e96",
   "metadata": {},
   "outputs": [
    {
     "name": "stdout",
     "output_type": "stream",
     "text": [
      "Fail to reject the null hypothesis. The manufacturer's claim is justified.\n",
      "F-statistic: 1.2\n",
      "P-value: 0.6296099619959358\n"
     ]
    }
   ],
   "source": [
    "import scipy.stats as stats\n",
    "\n",
    "claimed_variance = 0.005\n",
    "sample_variance = 0.006\n",
    "\n",
    "# Sample size\n",
    "n = 25\n",
    "\n",
    "# Calculate the F-statistic\n",
    "f_statistic = sample_variance / claimed_variance\n",
    "\n",
    "# Degrees of freedom\n",
    "df1 = n - 1  # Degrees of freedom for the numerator\n",
    "df2 = 1      # Degrees of freedom for the denominator\n",
    "\n",
    "# Calculate the p-value for the F-test\n",
    "p_value = 1 - stats.f.cdf(f_statistic, df1, df2)\n",
    "\n",
    "# Significance level\n",
    "alpha = 0.01  \n",
    "\n",
    "if p_value < alpha:\n",
    "    print(\"Reject the null hypothesis. The manufacturer's claim is not justified.\")\n",
    "else:\n",
    "    print(\"Fail to reject the null hypothesis. The manufacturer's claim is justified.\")\n",
    "\n",
    "print(\"F-statistic:\", f_statistic)\n",
    "print(\"P-value:\", p_value)\n"
   ]
  },
  {
   "cell_type": "markdown",
   "id": "9decb287-6976-45c3-b6a1-1c75c0ce90b0",
   "metadata": {},
   "source": [
    "## Q6. Write a Python function that takes in the degrees of freedom for the numerator and denominator of an F-distribution and calculates the mean and variance of the distribution. The function should return the mean and variance as a tuple."
   ]
  },
  {
   "cell_type": "code",
   "execution_count": 10,
   "id": "0a93fa4e-b1ba-4ace-951d-0b63b7fc1a7d",
   "metadata": {},
   "outputs": [
    {
     "name": "stdout",
     "output_type": "stream",
     "text": [
      "Mean: 1.25\n",
      "Variance: 1.3541666666666667\n"
     ]
    }
   ],
   "source": [
    "def calculate_f_distribution(df1, df2):\n",
    "\n",
    "    if df1 <= 0 or df2 <= 0:\n",
    "        raise ValueError(\"Degrees of freedom must be greater than 0.\")\n",
    "\n",
    "    # Calculate the mean of the F-distribution\n",
    "    if df2 > 2:\n",
    "        mean = df2 / (df2 - 2)\n",
    "    else:\n",
    "        mean = float(\"inf\")\n",
    "\n",
    "    # Calculate the variance of the F-distribution\n",
    "    if df2 > 4:\n",
    "        variance = (2 * (df2 ** 2) * (df1 + df2 - 2)) / ((df1 * (df2 - 2) ** 2 * (df2 - 4)))\n",
    "    else:\n",
    "        variance = float(\"inf\")\n",
    "\n",
    "    return mean, variance\n",
    "\n",
    "# Example usage:\n",
    "df1 = 5\n",
    "df2 = 10\n",
    "\n",
    "mean, variance = calculate_f_distribution(df1, df2)\n",
    "print(\"Mean:\", mean)\n",
    "print(\"Variance:\", variance)\n"
   ]
  },
  {
   "cell_type": "markdown",
   "id": "b4bc73b9-a8e3-45e4-b2cc-bd6d9027cb4f",
   "metadata": {},
   "source": [
    "## Q7. A random sample of 10 measurements is taken from a normal population with unknown variance. The sample variance is found to be 25. Another random sample of 15 measurements is taken from another normal population with unknown variance, and the sample variance is found to be 20. Conduct an F-test at the 10% significance level to determine if the variances are significantly different."
   ]
  },
  {
   "cell_type": "code",
   "execution_count": 12,
   "id": "cce77261-0fa5-4368-af16-5fe12d40bfc7",
   "metadata": {},
   "outputs": [
    {
     "name": "stdout",
     "output_type": "stream",
     "text": [
      "Fail to reject the null hypothesis. The variances are equal.\n",
      "F-statistic: 1.25\n",
      "P-value: 0.6832194382585954\n"
     ]
    }
   ],
   "source": [
    "import scipy.stats as stats\n",
    "\n",
    "# Sample variances\n",
    "sample_variance1 = 25\n",
    "sample_variance2 = 20\n",
    "\n",
    "# Sample sizes\n",
    "n1 = 10\n",
    "n2 = 15\n",
    "\n",
    "# Calculate the F-statistic\n",
    "f_statistic = sample_variance1 / sample_variance2\n",
    "\n",
    "# Degrees of freedom\n",
    "df1 = n1 - 1  # Degrees of freedom for the numerator\n",
    "df2 = n2 - 1  # Degrees of freedom for the denominator\n",
    "\n",
    "# Calculate the p-value for the F-test\n",
    "p_value = 2 * min(stats.f.cdf(f_statistic, df1, df2), 1 - stats.f.cdf(f_statistic, df1, df2))\n",
    "\n",
    "# Significance level\n",
    "alpha = 0.10  \n",
    "\n",
    "\n",
    "if p_value < alpha:\n",
    "    print(\"Reject the null hypothesis. The variances are not equal.\")\n",
    "else:\n",
    "    print(\"Fail to reject the null hypothesis. The variances are equal.\")\n",
    "\n",
    "print(\"F-statistic:\", f_statistic)\n",
    "print(\"P-value:\", p_value)\n"
   ]
  },
  {
   "cell_type": "markdown",
   "id": "6a9438d8-ce63-4101-8084-c2547b63f6e3",
   "metadata": {},
   "source": [
    "## Q8. The following data represent the waiting times in minutes at two different restaurants on a Saturday night: Restaurant A: 24, 25, 28, 23, 22, 20, 27; Restaurant B: 31, 33, 35, 30, 32, 36. Conduct an F-test at the 5% significance level to determine if the variances are significantly different."
   ]
  },
  {
   "cell_type": "code",
   "execution_count": 13,
   "id": "39c67f49-c1f2-4589-a4b9-4b9fad8f0731",
   "metadata": {},
   "outputs": [
    {
     "name": "stdout",
     "output_type": "stream",
     "text": [
      "Fail to reject the null hypothesis. The variances are equal.\n",
      "F-statistic: 1.4551907719609583\n",
      "P-value: 0.6974815747937484\n"
     ]
    }
   ],
   "source": [
    "import scipy.stats as stats\n",
    "\n",
    "data_a = [24, 25, 28, 23, 22, 20, 27]\n",
    "data_b = [31, 33, 35, 30, 32, 36]\n",
    "\n",
    "# Calculate the sample variances\n",
    "variance_a = sum((x - sum(data_a) / len(data_a))**2 for x in data_a) / (len(data_a) - 1)\n",
    "variance_b = sum((x - sum(data_b) / len(data_b))**2 for x in data_b) / (len(data_b) - 1)\n",
    "\n",
    "# Calculate the F-statistic\n",
    "f_statistic = variance_a / variance_b\n",
    "\n",
    "# Degrees of freedom\n",
    "df1 = len(data_a) - 1  # Degrees of freedom for the numerator \n",
    "df2 = len(data_b) - 1  # Degrees of freedom for the denominator \n",
    "\n",
    "# Calculate the p-value for the F-test\n",
    "p_value = 2 * min(stats.f.cdf(f_statistic, df1, df2), 1 - stats.f.cdf(f_statistic, df1, df2))\n",
    "\n",
    "# Significance level\n",
    "alpha = 0.05  \n",
    "\n",
    "if p_value < alpha:\n",
    "    print(\"Reject the null hypothesis. The variances are not equal.\")\n",
    "else:\n",
    "    print(\"Fail to reject the null hypothesis. The variances are equal.\")\n",
    "\n",
    "print(\"F-statistic:\", f_statistic)\n",
    "print(\"P-value:\", p_value)\n"
   ]
  },
  {
   "cell_type": "markdown",
   "id": "92c903e8-8e4d-4b81-b991-c80a790e2e31",
   "metadata": {},
   "source": [
    "## Q9. The following data represent the test scores of two groups of students: Group A: 80, 85, 90, 92, 87, 83; Group B: 75, 78, 82, 79, 81, 84. Conduct an F-test at the 1% significance level to determine if the variances are significantly different."
   ]
  },
  {
   "cell_type": "code",
   "execution_count": 14,
   "id": "0f705817-3377-4160-8a24-6b5e3fa01421",
   "metadata": {},
   "outputs": [
    {
     "name": "stdout",
     "output_type": "stream",
     "text": [
      "Fail to reject the null hypothesis. The variances are equal.\n",
      "F-statistic: 1.9442622950819677\n",
      "P-value: 0.4831043549070688\n"
     ]
    }
   ],
   "source": [
    "import scipy.stats as stats\n",
    "\n",
    "data_a = [80, 85, 90, 92, 87, 83]\n",
    "data_b = [75, 78, 82, 79, 81, 84]\n",
    "\n",
    "# Calculate the sample variances\n",
    "variance_a = sum((x - sum(data_a) / len(data_a))**2 for x in data_a) / (len(data_a) - 1)\n",
    "variance_b = sum((x - sum(data_b) / len(data_b))**2 for x in data_b) / (len(data_b) - 1)\n",
    "\n",
    "# Calculate the F-statistic\n",
    "f_statistic = variance_a / variance_b\n",
    "\n",
    "# Degrees of freedom\n",
    "df1 = len(data_a) - 1  # Degrees of freedom for the numerator \n",
    "df2 = len(data_b) - 1  # Degrees of freedom for the denominator \n",
    "\n",
    "# Calculate the p-value for the F-test\n",
    "p_value = 2 * min(stats.f.cdf(f_statistic, df1, df2), 1 - stats.f.cdf(f_statistic, df1, df2))\n",
    "\n",
    "# Significance level\n",
    "alpha = 0.01  \n",
    "\n",
    "if p_value < alpha:\n",
    "    print(\"Reject the null hypothesis. The variances are not equal.\")\n",
    "else:\n",
    "    print(\"Fail to reject the null hypothesis. The variances are equal.\")\n",
    "\n",
    "print(\"F-statistic:\", f_statistic)\n",
    "print(\"P-value:\", p_value)\n"
   ]
  }
 ],
 "metadata": {
  "kernelspec": {
   "display_name": "Python 3 (ipykernel)",
   "language": "python",
   "name": "python3"
  },
  "language_info": {
   "codemirror_mode": {
    "name": "ipython",
    "version": 3
   },
   "file_extension": ".py",
   "mimetype": "text/x-python",
   "name": "python",
   "nbconvert_exporter": "python",
   "pygments_lexer": "ipython3",
   "version": "3.10.8"
  }
 },
 "nbformat": 4,
 "nbformat_minor": 5
}
