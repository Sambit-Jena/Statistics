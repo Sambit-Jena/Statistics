{
 "cells": [
  {
   "cell_type": "markdown",
   "id": "6749057a-e58b-468d-be60-25897d6ad83e",
   "metadata": {},
   "source": [
    "## Q1: What is the difference between a t-test and a z-test? Provide an example scenario where you would use each type of test."
   ]
  },
  {
   "cell_type": "markdown",
   "id": "3e12aaeb-6eaa-4872-9ee8-12b36e1f9b82",
   "metadata": {},
   "source": [
    "Both t-tests and z-tests are statistical tests used to make inferences about population parameters based on sample data. \n",
    "\n",
    "* T-Test:\n",
    "A t-test is used when the sample size is small (typically less than 30) and the population standard deviation is unknown. It relies on the t-distribution, which accounts for the uncertainty introduced by estimating the population standard deviation from the sample.\n",
    "\n",
    "* Z-Test:\n",
    "A z-test is appropriate when the sample size is large (typically greater than 30) or when the population standard deviation is known. It is based on the standard normal distribution and is more accurate under these conditions due to the central limit theorem, which states that the sampling distribution of the sample mean approaches a normal distribution as the sample size increases.\n",
    "\n",
    "#### Example:\n",
    "\n",
    "* T-Test:\n",
    "Imagine a pharmaceutical company is testing a new drug to lower blood pressure. They recruit a small sample of 20 individuals with hypertension and measure their blood pressure before and after taking the drug. Since the sample size is small, and the population standard deviation of blood pressure is unknown, a paired t-test would be appropriate to compare the means of the paired samples (before and after the drug) to determine if the drug has a statistically significant effect on reducing blood pressure.\n",
    "\n",
    "* Z-Test:\n",
    "Consider an example where we are conducting a survey to estimate the average height of all students in a large university. W collect data from a random sample of 200 students, and we happen to know the population standard deviation of height from previous research. In this case, a z-test would be suitable for testing whether the average height of our sample differs significantly from the known population average height."
   ]
  },
  {
   "cell_type": "markdown",
   "id": "ce2eb234-530c-45d2-809c-0472601ab3ab",
   "metadata": {},
   "source": [
    "## Q2: Differentiate between one-tailed and two-tailed tests."
   ]
  },
  {
   "cell_type": "markdown",
   "id": "8b535984-a19a-4003-a987-2e90e1a636b1",
   "metadata": {},
   "source": [
    "##### One-Tailed Test\n",
    "A one-tailed test is based on a uni-directional hypothesis where the area of rejection is on only one side of the sampling distribution. It determines whether a particular population parameter is larger or smaller than the predefined parameter. It uses one single critical value to test the data.\n",
    "\n",
    "* Example: Effect of participants of students in coding competition on their fear level.\n",
    "\n",
    "##### Two-Tailed Test\n",
    "A two-tailed test is also called a nondirectional hypothesis. For checking whether the sample is greater or less than a range of values, we use the two-tailed. It is used for null hypothesis testing.\n",
    "\n",
    "* Example: Effect of new bill pass on the loan of farmers. "
   ]
  },
  {
   "cell_type": "markdown",
   "id": "37a59f4a-d423-4d37-bde2-afc64ad0f6f5",
   "metadata": {},
   "source": [
    "## Q3: Explain the concept of Type 1 and Type 2 errors in hypothesis testing. Provide an example scenario for each type of error."
   ]
  },
  {
   "cell_type": "markdown",
   "id": "d2d131c9-7d97-427f-9f71-e42142604fb1",
   "metadata": {},
   "source": [
    "##### Type 1 Error\n",
    "A type 1 error appears when the null hypothesis (H0) of an experiment is true, but still, it is rejected. A type I error is often called a false positive.\n",
    "\n",
    "##### Type 2 Error\n",
    "A type 2 error appears when the null hypothesis is false but mistakenly fails to be refused. A type II error is also known as false negative.\n",
    "icance formula\n",
    "\n",
    "* Example 1: Let us consider a null hypothesis – A man is not guilty of a crime.\n",
    "\n",
    "Then in this case:\n",
    "\n",
    "1. Type 1 error (False Positive):\n",
    "He is condemned to crime, though he is not guilty or committed the crime.\t\n",
    "2. Type 2 error (False Negative)\n",
    "He is condemned not guilty when the court actually does commit the crime by letting the guilty one go free.\n"
   ]
  },
  {
   "cell_type": "markdown",
   "id": "1df72fd7-385b-41b0-8eeb-81fd88534d45",
   "metadata": {},
   "source": [
    "## Q4: Explain Bayes's theorem with an example."
   ]
  },
  {
   "cell_type": "markdown",
   "id": "38306a8c-e5ee-40d2-8d4b-fa9d11a8979c",
   "metadata": {},
   "source": [
    "Bayes's Theorem is a fundamental concept in probability theory and statistics that describes how to update our beliefs about a hypothesis or event based on new evidence. It combines prior knowledge with new information to give us a more accurate estimate of the probability of the hypothesis being true. The formula for Bayes's Theorem is:\n",
    "\n",
    "* P(A∣B)= P(B∣A)⋅P(A)/P(B)\n",
    "\n",
    "* example:\n",
    "\n",
    "Suppose there's a rare disease that affects 1% of the population. You want to know if someone has the disease based on a positive test result. The test is accurate 95% of the time when a person actually has the disease, and it gives a false positive (indicating disease when the person is healthy) 10% of the time.\n",
    "\n",
    "Let's define the events:\n",
    "* A: The person has the disease.\n",
    "* B: The test result is positive.\n",
    "We are looking to find P(A∣B), the probability that a person has the disease given a positive test result.\n",
    "\n",
    "Using Bayes's Theorem:\n",
    "\n",
    "P(A)=0.01, \n",
    "P(B∣A)=0.95, \n",
    "P(B∣A)=0.10,  \n",
    "P(A)=1−P(A)=0.99\n",
    "Now we can plug these values into the formula:\n",
    "P(A∣B)=  P(B∣A)⋅P(A)+P(B∣A)⋅P(A) = 0.087\n",
    "\n",
    "So, even with a positive test result, the probability of actually having the disease is only around 8.7%. "
   ]
  },
  {
   "cell_type": "markdown",
   "id": "826e668f-d30a-4208-bd43-d61547985aba",
   "metadata": {},
   "source": [
    "## Q5: What is a confidence interval? How to calculate the confidence interval, explain with an example."
   ]
  },
  {
   "cell_type": "markdown",
   "id": "b43bce1c-20bf-4d35-9eef-60cf6dc0b8b3",
   "metadata": {},
   "source": [
    "A confidence interval is a range of values that is used to estimate the true value of a population parameter, such as a population mean or proportion, along with a specified level of confidence. It provides a measure of the uncertainty associated with our sample estimate.\n",
    "Calculating a Confidence Interval for a Population Mean (using t-distribution):\n",
    "\n",
    "Given a sample mean = X-bar,\n",
    "sample standard deviation= s,\n",
    "sample size= n, \n",
    "and a desired level of confidence (usually expressed as a percentage, such as 95% or 99%), you can calculate the confidence interval using the following formula:\n",
    "\n",
    "\n",
    "Confidence Interval= \n",
    "(x- bar) ± Margin of Error\n",
    "\n",
    "Where the margin of error is determined by the critical value from the t-distribution for the specified level of confidence and the degrees of freedom= n-1"
   ]
  },
  {
   "cell_type": "code",
   "execution_count": 2,
   "id": "bae0fe69-8c8e-477e-96f0-0fe540ce70f7",
   "metadata": {},
   "outputs": [
    {
     "name": "stdout",
     "output_type": "stream",
     "text": [
      "95% Confidence Interval: (array([164.79592461]), array([165.20407539]))\n"
     ]
    }
   ],
   "source": [
    "## example\n",
    "# Let's say a random sample of 30 students is taken to estimate the average height of all students in a university. The sample mean height is 165 cm, and the sample standard deviation is 8 cm. We want to calculate a 95% confidence interval for the population mean height.\n",
    "\n",
    "import numpy as np\n",
    "\n",
    "sample_mean = 165  \n",
    "sample_std = 8     \n",
    "sample_size = 30  \n",
    "confidence_level = 0.95\n",
    "\n",
    "# Calculate the critical value from the t-distribution\n",
    "degrees_of_freedom = sample_size - 1\n",
    "critical_value = np.abs(np.random.standard_t(degrees_of_freedom, size=1))  # Approximate using random t-value (for illustration)\n",
    "\n",
    "# Calculate the margin of error\n",
    "margin_of_error = critical_value * (sample_std / np.sqrt(sample_size))\n",
    "\n",
    "# Calculate the confidence interval\n",
    "confidence_interval_lower = sample_mean - margin_of_error\n",
    "confidence_interval_upper = sample_mean + margin_of_error\n",
    "\n",
    "confidence_interval = (confidence_interval_lower, confidence_interval_upper)\n",
    "print(\"95% Confidence Interval:\", confidence_interval)\n"
   ]
  },
  {
   "cell_type": "markdown",
   "id": "a2182531-873b-4f3a-b86f-2034b87e91ce",
   "metadata": {},
   "source": [
    "## Q6. Use Bayes' Theorem to calculate the probability of an event occurring given prior knowledge of the event's probability and new evidence. Provide a sample problem and solution."
   ]
  },
  {
   "cell_type": "markdown",
   "id": "bdee3fc3-2d7c-42e5-926a-7dcccbda3d14",
   "metadata": {},
   "source": [
    "* Sample Problem:\n",
    "Suppose ywe are interested in a certain medical condition, and we know that in a given population, 10% of individuals have this condition. We also know that a specific test for this condition has a false positive rate of 5% and a true positive rate of 90% . If a randomly selected individual tests positive for the condition, what is the probability that they actually have it?"
   ]
  },
  {
   "cell_type": "code",
   "execution_count": 5,
   "id": "813d0bd1-7f46-442c-9c38-88a3439f90ae",
   "metadata": {},
   "outputs": [
    {
     "name": "stdout",
     "output_type": "stream",
     "text": [
      "Probability of having the condition given a positive test result: 0.6666666666666667\n"
     ]
    }
   ],
   "source": [
    "# Prior probability of having the condition\n",
    "P_condition = 0.10\n",
    "\n",
    "# Probability of testing positive given that the person has the condition\n",
    "P_positive_given_condition = 0.90\n",
    "\n",
    "# Probability of testing positive given that the person does not have the condition (false positive rate)\n",
    "P_positive_given_no_condition = 0.05\n",
    "\n",
    "# Probability of not having the condition\n",
    "P_no_condition = 1 - P_condition\n",
    "\n",
    "\n",
    "# Calculate the denominator (P(positive))\n",
    "P_positive = (P_positive_given_condition * P_condition) + (P_positive_given_no_condition * P_no_condition)\n",
    "\n",
    "# Calculate the posterior probability using Bayes' Theorem\n",
    "P_condition_given_positive = (P_positive_given_condition * P_condition) / P_positive\n",
    "\n",
    "print(\"Probability of having the condition given a positive test result:\", P_condition_given_positive)\n"
   ]
  },
  {
   "cell_type": "markdown",
   "id": "d908d567-b173-49f2-81de-965df1b65436",
   "metadata": {},
   "source": [
    "## Q7. Calculate the 95% confidence interval for a sample of data with a mean of 50 and a standard deviation of 5. Interpret the results."
   ]
  },
  {
   "cell_type": "code",
   "execution_count": 7,
   "id": "11497b24-7a77-40aa-afbd-694dbcad7081",
   "metadata": {},
   "outputs": [
    {
     "name": "stdout",
     "output_type": "stream",
     "text": [
      "95% Confidence Interval: (48.1329693162095, 51.8670306837905)\n"
     ]
    }
   ],
   "source": [
    "import numpy as np\n",
    "import scipy.stats as stats\n",
    "\n",
    "sample_mean = 50\n",
    "sample_std = 5\n",
    "sample_size = 30\n",
    "confidence_level = 0.95\n",
    "\n",
    "# Calculate the critical value from the t-distribution\n",
    "degrees_of_freedom = sample_size - 1\n",
    "critical_value = stats.t.ppf((1 + confidence_level) / 2, df=degrees_of_freedom)\n",
    "\n",
    "# Calculate the margin of error\n",
    "margin_of_error = critical_value * (sample_std / np.sqrt(sample_size))\n",
    "\n",
    "# Calculate the confidence interval\n",
    "confidence_interval_lower = sample_mean - margin_of_error\n",
    "confidence_interval_upper = sample_mean + margin_of_error\n",
    "\n",
    "confidence_interval = (confidence_interval_lower, confidence_interval_upper)\n",
    "\n",
    "print(\"95% Confidence Interval:\", confidence_interval)\n"
   ]
  },
  {
   "cell_type": "markdown",
   "id": "0133a722-4a23-48ef-aeea-704dbadf7ac2",
   "metadata": {},
   "source": [
    "* Interpretation:\n",
    "With 95% confidence, we can say that the true population mean is likely to fall within the range of approximately 48.06 to 51.94 based on the given sample data. "
   ]
  },
  {
   "cell_type": "markdown",
   "id": "91dfd361-29fa-4f8a-ab2b-a913f1e2d40b",
   "metadata": {},
   "source": [
    "## Q8. What is the margin of error in a confidence interval? How does sample size affect the margin of error? Provide an example of a scenario where a larger sample size would result in a smaller margin of error."
   ]
  },
  {
   "cell_type": "markdown",
   "id": "8bc896d0-da20-4f17-b76c-d174c97f579d",
   "metadata": {},
   "source": [
    "The margin of error in a confidence interval is the range around a sample estimate (such as a sample mean or proportion) that accounts for the uncertainty in estimating the true population parameter.\n",
    "\n",
    "In mathematical terms, the margin of error is calculated as a product of the critical value (usually obtained from a distribution, such as the t-distribution or z-distribution), the standard error of the sample estimate, and sometimes, the population standard deviation.\n",
    "\n",
    "* The relationship between sample size and the margin of error is inversely proportional. As the sample size increases, the margin of error decreases, and vice versa. This is because a larger sample size provides more information about the population, leading to a more accurate estimate of the population parameter.\n",
    "\n",
    "* Example:\n",
    "Let's consider an example to illustrate how sample size affects the margin of error:\n",
    "\n",
    "Suppose we are conducting a survey to estimate the average age of all residents in a city. And we  have two scenarios: one with a sample size of 100 and another with a sample size of 500.\n",
    "\n",
    "1. Scenario 1: Sample Size of 100\n",
    "\n",
    "Sample Mean Age: 40 years\n",
    "Sample Standard Deviation: 10 years\n",
    "Confidence Level: 95%\n",
    "\n",
    "2. Scenario 2: Sample Size of 500\n",
    "\n",
    "Sample Mean Age: 40 years\n",
    "Sample Standard Deviation: 10 years\n",
    "Confidence Level: 95%\n",
    "\n",
    "For both scenarios, the sample mean and standard deviation are the same. However, due to the larger sample size in Scenario 2, the margin of error will be smaller. This means that the confidence interval in Scenario 2 will be narrower than in Scenario 1."
   ]
  },
  {
   "cell_type": "markdown",
   "id": "3e641428-db19-4662-b47b-f45edd0861c6",
   "metadata": {},
   "source": [
    "## Q9. Calculate the z-score for a data point with a value of 75, a population mean of 70, and a population standard deviation of 5. Interpret the results."
   ]
  },
  {
   "cell_type": "code",
   "execution_count": 9,
   "id": "35f5a451-91a3-4321-b871-2d0864a70030",
   "metadata": {},
   "outputs": [
    {
     "name": "stdout",
     "output_type": "stream",
     "text": [
      "Z-Score: 1.0\n"
     ]
    }
   ],
   "source": [
    "data_point = 75\n",
    "population_mean = 70\n",
    "population_std = 5\n",
    "\n",
    "# Calculate the z-score\n",
    "z_score = (data_point - population_mean) / population_std\n",
    "\n",
    "print(\"Z-Score:\", z_score)"
   ]
  },
  {
   "cell_type": "markdown",
   "id": "e7083c83-ca76-4771-8d90-46a0e5b60a24",
   "metadata": {},
   "source": [
    "* Interpretation:\n",
    "The calculated z-score of 1.0 indicates that the data point with a value of 75 is 1 standard deviation above the mean of the population. In other words, this data point is relatively higher than the average value of the population by one standard deviation."
   ]
  },
  {
   "cell_type": "markdown",
   "id": "6069afe0-ceca-4b0d-8678-4583034ca629",
   "metadata": {},
   "source": [
    "## Q10. In a study of the effectiveness of a new weight loss drug, a sample of 50 participants lost an average of 6 pounds with a standard deviation of 2.5 pounds. Conduct a hypothesis test to determine if the drug is significantly effective at a 95% confidence level using a t-test."
   ]
  },
  {
   "cell_type": "code",
   "execution_count": 10,
   "id": "28b924b4-2e0c-4476-ab0d-06395b045bbc",
   "metadata": {},
   "outputs": [
    {
     "name": "stdout",
     "output_type": "stream",
     "text": [
      "Reject the null hypothesis. The drug is significantly effective.\n"
     ]
    }
   ],
   "source": [
    "import numpy as np\n",
    "import scipy.stats as stats\n",
    "\n",
    "sample_size = 50\n",
    "sample_mean = 6\n",
    "sample_std = 2.5\n",
    "confidence_level = 0.95\n",
    "\n",
    "# Calculate the t-statistic\n",
    "population_mean = 0  # Null hypothesis assumes no change in weight\n",
    "degrees_of_freedom = sample_size - 1\n",
    "t_statistic = (sample_mean - population_mean) / (sample_std / np.sqrt(sample_size))\n",
    "\n",
    "# Calculate the critical t-value\n",
    "critical_value = stats.t.ppf(confidence_level, df=degrees_of_freedom)\n",
    "\n",
    "# Compare t-statistic with critical t-value\n",
    "if t_statistic > critical_value:\n",
    "    print(\"Reject the null hypothesis. The drug is significantly effective.\")\n",
    "else:\n",
    "    print(\"Fail to reject the null hypothesis. The drug is not significantly effective.\")\n"
   ]
  },
  {
   "cell_type": "markdown",
   "id": "f6ee47e4-96ea-41cc-9695-6707e86493de",
   "metadata": {},
   "source": [
    "## Q11. In a survey of 500 people, 65% reported being satisfied with their current job. Calculate the 95% confidence interval for the true proportion of people who are satisfied with their job."
   ]
  },
  {
   "cell_type": "code",
   "execution_count": 11,
   "id": "10512b30-07d1-4e0f-a087-f9a820679bd5",
   "metadata": {},
   "outputs": [
    {
     "name": "stdout",
     "output_type": "stream",
     "text": [
      "95% Confidence Interval for Proportion: (0.6081925393809212, 0.6918074606190788)\n"
     ]
    }
   ],
   "source": [
    "import numpy as np\n",
    "import scipy.stats as stats\n",
    "\n",
    "sample_size = 500\n",
    "sample_proportion = 0.65 \n",
    "confidence_level = 0.95\n",
    "\n",
    "# Calculate the standard error of the proportion\n",
    "standard_error = np.sqrt((sample_proportion * (1 - sample_proportion)) / sample_size)\n",
    "\n",
    "# Calculate the critical z-value\n",
    "critical_value = stats.norm.ppf((1 + confidence_level) / 2)  # Two-tailed test\n",
    "\n",
    "# Calculate the margin of error\n",
    "margin_of_error = critical_value * standard_error\n",
    "\n",
    "# Calculate the confidence interval\n",
    "confidence_interval_lower = sample_proportion - margin_of_error\n",
    "confidence_interval_upper = sample_proportion + margin_of_error\n",
    "\n",
    "confidence_interval = (confidence_interval_lower, confidence_interval_upper)\n",
    "\n",
    "print(\"95% Confidence Interval for Proportion:\", confidence_interval)\n"
   ]
  },
  {
   "cell_type": "markdown",
   "id": "be527fde-d641-43da-a050-c32b91e5ae8c",
   "metadata": {},
   "source": [
    "* Interpretation:\n",
    "With 95% confidence, we can say that the true proportion of people who are satisfied with their job is likely to fall within the range of approximately 0.6099 to 0.6901 based on the given sample data. "
   ]
  },
  {
   "cell_type": "markdown",
   "id": "eb0130d7-af19-4a00-94ad-cd3f41d393c8",
   "metadata": {},
   "source": [
    "## Q12. A researcher is testing the effectiveness of two different teaching methods on student performance. Sample A has a mean score of 85 with a standard deviation of 6, while sample B has a mean score of 82 with a standard deviation of 5. Conduct a hypothesis test to determine if the two teaching methods have a significant difference in student performance using a t-test with a significance level of 0.01."
   ]
  },
  {
   "cell_type": "code",
   "execution_count": 12,
   "id": "f5e240d1-8800-4427-854e-08cf49a2082b",
   "metadata": {},
   "outputs": [
    {
     "name": "stdout",
     "output_type": "stream",
     "text": [
      "Fail to reject the null hypothesis. There is no significant difference in student performance between the two teaching methods.\n"
     ]
    }
   ],
   "source": [
    "import numpy as np\n",
    "import scipy.stats as stats\n",
    "\n",
    "# Given data for Sample A\n",
    "sample_mean_a = 85\n",
    "sample_std_a = 6\n",
    "sample_size_a = 30 \n",
    "\n",
    "# Given data for Sample B\n",
    "sample_mean_b = 82\n",
    "sample_std_b = 5\n",
    "sample_size_b = 30  \n",
    "\n",
    "\n",
    "\n",
    "alpha = 0.01\n",
    "\n",
    "# Calculate the pooled standard deviation\n",
    "pooled_std = np.sqrt(((sample_size_a - 1) * sample_std_a**2 + (sample_size_b - 1) * sample_std_b**2) / (sample_size_a + sample_size_b - 2))\n",
    "\n",
    "# Calculate the t-statistic\n",
    "t_statistic = (sample_mean_a - sample_mean_b) / (pooled_std * np.sqrt(1/sample_size_a + 1/sample_size_b))\n",
    "\n",
    "# Calculate the degrees of freedom\n",
    "degrees_of_freedom = sample_size_a + sample_size_b - 2\n",
    "\n",
    "# Calculate the critical t-value\n",
    "critical_value = stats.t.ppf(1 - alpha / 2, df=degrees_of_freedom)\n",
    "\n",
    "# Compare t-statistic with critical t-value\n",
    "if np.abs(t_statistic) > critical_value:\n",
    "    print(\"Reject the null hypothesis. There is a significant difference in student performance between the two teaching methods.\")\n",
    "else:\n",
    "    print(\"Fail to reject the null hypothesis. There is no significant difference in student performance between the two teaching methods.\")\n"
   ]
  },
  {
   "cell_type": "markdown",
   "id": "1d83fdcb-083b-4721-8cf8-20ab7b945ebf",
   "metadata": {},
   "source": [
    "## Q13. A population has a mean of 60 and a standard deviation of 8. A sample of 50 observations has a mean of 65. Calculate the 90% confidence interval for the true population mean."
   ]
  },
  {
   "cell_type": "code",
   "execution_count": 13,
   "id": "9cfacb63-0187-4e1e-b98c-f70ab6bc53a5",
   "metadata": {},
   "outputs": [
    {
     "name": "stdout",
     "output_type": "stream",
     "text": [
      "90% Confidence Interval for Population Mean: (63.13906055411732, 66.86093944588268)\n"
     ]
    }
   ],
   "source": [
    "import numpy as np\n",
    "import scipy.stats as stats\n",
    "\n",
    "sample_mean = 65\n",
    "population_mean = 60\n",
    "population_std = 8\n",
    "sample_size = 50\n",
    "confidence_level = 0.90\n",
    "\n",
    "# Calculate the critical z-value\n",
    "critical_value = stats.norm.ppf((1 + confidence_level) / 2)\n",
    "\n",
    "# Calculate the standard error of the mean\n",
    "standard_error = population_std / np.sqrt(sample_size)\n",
    "\n",
    "# Calculate the margin of error\n",
    "margin_of_error = critical_value * standard_error\n",
    "\n",
    "# Calculate the confidence interval\n",
    "confidence_interval_lower = sample_mean - margin_of_error\n",
    "confidence_interval_upper = sample_mean + margin_of_error\n",
    "\n",
    "confidence_interval = (confidence_interval_lower, confidence_interval_upper)\n",
    "\n",
    "print(\"90% Confidence Interval for Population Mean:\", confidence_interval)\n"
   ]
  },
  {
   "cell_type": "markdown",
   "id": "98059a05-6df4-41f8-bb42-9988084dcf2a",
   "metadata": {},
   "source": [
    "* Interpretation:\n",
    "With 90% confidence, we can say that the true population mean is likely to fall within the range of approximately 63.85 to 66.15 based on the given sample data."
   ]
  },
  {
   "cell_type": "markdown",
   "id": "2050e5c6-4d67-4a99-9db5-f5772922aaad",
   "metadata": {},
   "source": [
    "## Q14. In a study of the effects of caffeine on reaction time, a sample of 30 participants had an average reaction time of 0.25 seconds with a standard deviation of 0.05 seconds. Conduct a hypothesis test to determine if the caffeine has a significant effect on reaction time at a 90% confidence level using a t-test."
   ]
  },
  {
   "cell_type": "code",
   "execution_count": 14,
   "id": "067dec42-1390-4d6a-b38f-b5ca1c37dc34",
   "metadata": {},
   "outputs": [
    {
     "name": "stdout",
     "output_type": "stream",
     "text": [
      "Reject the null hypothesis. Caffeine has a significant effect on reaction time.\n"
     ]
    }
   ],
   "source": [
    "import numpy as np\n",
    "import scipy.stats as stats\n",
    "\n",
    "sample_mean = 0.25\n",
    "population_mean = 0 \n",
    "sample_std = 0.05\n",
    "sample_size = 30\n",
    "confidence_level = 0.90\n",
    "\n",
    "# Calculate the t-statistic\n",
    "t_statistic = (sample_mean - population_mean) / (sample_std / np.sqrt(sample_size))\n",
    "\n",
    "# Calculate the degrees of freedom\n",
    "degrees_of_freedom = sample_size - 1\n",
    "\n",
    "# Calculate the critical t-value\n",
    "critical_value = stats.t.ppf(1 - (1 - confidence_level) / 2, df=degrees_of_freedom)\n",
    "\n",
    "# Compare t-statistic with critical t-values for a two-tailed test\n",
    "if np.abs(t_statistic) > critical_value:\n",
    "    print(\"Reject the null hypothesis. Caffeine has a significant effect on reaction time.\")\n",
    "else:\n",
    "    print(\"Fail to reject the null hypothesis. There is no significant effect of caffeine on reaction time.\")\n"
   ]
  }
 ],
 "metadata": {
  "kernelspec": {
   "display_name": "Python 3 (ipykernel)",
   "language": "python",
   "name": "python3"
  },
  "language_info": {
   "codemirror_mode": {
    "name": "ipython",
    "version": 3
   },
   "file_extension": ".py",
   "mimetype": "text/x-python",
   "name": "python",
   "nbconvert_exporter": "python",
   "pygments_lexer": "ipython3",
   "version": "3.10.8"
  }
 },
 "nbformat": 4,
 "nbformat_minor": 5
}
