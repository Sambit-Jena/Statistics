{
 "cells": [
  {
   "cell_type": "markdown",
   "id": "947d4e88-1e89-4572-8bc1-f4156b3249f9",
   "metadata": {},
   "source": [
    "## Q1: What is Estimation Statistics? Explain point estimate and interval estimate."
   ]
  },
  {
   "cell_type": "markdown",
   "id": "263867a6-59a5-4552-a37f-2c5906f0f1b1",
   "metadata": {},
   "source": [
    "\n",
    "Estimation in statistics refers to the process of using sample data to make inferences about population parameters. Population parameters are numerical characteristics of a larger group, often referred to as the population, that we want to understand or describe. Estimation involves using sample data to estimate the values of these population parameters.\n",
    "\n",
    "There are two main types of estimation in statistics: point estimate and interval estimate.\n",
    "\n",
    "* Point Estimate:\n",
    "A point estimate is a single numerical value that is used to estimate the population parameter. It's essentially a \"best guess\" based on the available sample data. For example, if you're estimating the mean (average) height of a population using a sample of individuals, the sample mean would be a point estimate of the population mean.\n",
    "\n",
    "* Interval Estimate:\n",
    "An interval estimate, also known as a confidence interval, provides a range of values within which the population parameter is likely to fall, along with a level of confidence associated with that range. It acknowledges the uncertainty in the estimation process. Confidence intervals are expressed as an interval with a lower bound and an upper bound. For instance, we might calculate a 95% confidence interval for the population mean height, which would give us a range within which we can be 95% confident that the true population mean lies."
   ]
  },
  {
   "cell_type": "markdown",
   "id": "e79e1afa-5633-43fa-a3f8-4f126bc08a02",
   "metadata": {},
   "source": [
    "## Q2. Write a Python function to estimate the population mean using a sample mean and standard deviation."
   ]
  },
  {
   "cell_type": "code",
   "execution_count": 1,
   "id": "89a4d613-5a8b-41c3-bda2-45b238d99546",
   "metadata": {},
   "outputs": [
    {
     "name": "stdout",
     "output_type": "stream",
     "text": [
      "Estimated population mean: 65.2\n"
     ]
    }
   ],
   "source": [
    "def estimate_population_mean(sample_mean, sample_std_dev, sample_size):\n",
    "    estimated_population_mean = sample_mean\n",
    "    return estimated_population_mean\n",
    "\n",
    "# Let's have the Example\n",
    "sample_mean = 65.2\n",
    "sample_std_dev = 3.5\n",
    "sample_size = 100\n",
    "\n",
    "estimated_mean = estimate_population_mean(sample_mean, sample_std_dev, sample_size)\n",
    "print(f\"Estimated population mean: {estimated_mean}\")\n"
   ]
  },
  {
   "cell_type": "markdown",
   "id": "a3d34157-9673-4998-b39d-e555408ee902",
   "metadata": {},
   "source": [
    "## Q3: What is Hypothesis testing? Why is it used? State the importance of Hypothesis testing."
   ]
  },
  {
   "cell_type": "markdown",
   "id": "c62b7adc-c722-48e2-b302-16d26702d4f2",
   "metadata": {},
   "source": [
    "Hypothesis testing is a fundamental statistical method used to make decisions about population parameters based on sample data. It involves formulating two competing hypotheses – the null hypothesis (H0) and the alternative hypothesis (H1) – and using statistical techniques to determine whether there is enough evidence in the sample data to reject the null hypothesis in favor of the alternative hypothesis.\n",
    "\n",
    "The null hypothesis (H0) typically represents a default or conservative assumption, often stating that there is no effect, no difference, or no relationship between variables in the population. The alternative hypothesis (H1 or Ha) contradicts the null hypothesis and asserts that there is a specific effect, difference, or relationship.\n",
    "\n",
    "Hypothesis testing is used for various purposes:\n",
    "\n",
    "1. Statistical Inference: Hypothesis testing allows us to draw conclusions about population parameters based on sample data. It helps us make educated guesses about the larger population.\n",
    "\n",
    "2. Decision Making: Hypothesis testing provides a structured framework for making decisions. It helps researchers and analysts determine whether the observed results are statistically significant or simply due to random variability.\n",
    "\n",
    "3. Scientific Research: Hypothesis testing is crucial in scientific research to assess the validity of theories and hypotheses. It allows researchers to evaluate whether their experimental results are consistent with their expectations.\n",
    "\n",
    "4. Quality Control: Industries use hypothesis testing to ensure the quality and consistency of products. For example, a manufacturer might test whether a new production process significantly improves product quality compared to the old process.\n",
    "\n",
    "5. Medical Studies: Hypothesis testing is used in clinical trials to determine whether a new drug or treatment is effective compared to a placebo or existing treatment.\n",
    "\n",
    "##### Importance of Hypothesis Testing:\n",
    "\n",
    "1. Objectivity: Hypothesis testing provides an objective way to evaluate hypotheses and make decisions based on data rather than personal opinions or biases.\n",
    "\n",
    "2. Guided Decision-Making: Hypothesis testing guides decision-making by providing a clear framework to assess whether observed results are meaningful or could have occurred due to chance.\n",
    "\n",
    "3. Valid Conclusions: Without hypothesis testing, researchers might draw conclusions that are not supported by evidence. Hypothesis testing helps avoid this pitfall.\n",
    "\n",
    "4. Communication: It enables researchers to communicate their findings and conclusions to a wider audience, including peers, stakeholders, and the general public, with confidence in the validity of their claims."
   ]
  },
  {
   "cell_type": "markdown",
   "id": "ec7bbc46-ecc2-4e5c-8254-f1e9ffd940d7",
   "metadata": {},
   "source": [
    "## Q4. Create a hypothesis that states whether the average weight of male college students is greater than the average weight of female college students."
   ]
  },
  {
   "cell_type": "markdown",
   "id": "9e83e6d0-986f-48e7-99f9-0cc11af4ac7b",
   "metadata": {},
   "source": [
    "Null Hypothesis (H0): The average weight of male college students is not greater than the average weight of female college students.\n",
    "Alternative Hypothesis (H1): The average weight of male college students is greater than the average weight of female college students.\n",
    "\n",
    "Symbolically, these hypotheses can be represented as:\n",
    "\n",
    "H0: μ_male ≤ μ_female\n",
    "H1: μ_male > μ_female\n",
    "\n",
    "Where:\n",
    "μ_male = Population mean weight of male college students\n",
    "μ_female = Population mean weight of female college students"
   ]
  },
  {
   "cell_type": "markdown",
   "id": "12449368-154d-4efa-915c-468e76b607e0",
   "metadata": {},
   "source": [
    "## Q5. Write a Python script to conduct a hypothesis test on the difference between two population means given a sample from each population."
   ]
  },
  {
   "cell_type": "code",
   "execution_count": 2,
   "id": "6f11ecdb-43c1-468f-b38d-9b39218fdfc2",
   "metadata": {},
   "outputs": [
    {
     "name": "stdout",
     "output_type": "stream",
     "text": [
      "Independent Two-Sample T-Test:\n",
      "T-Statistic: 3.6544159449028744\n",
      "P-Value: 0.0005561069772185037\n",
      "Reject the null hypothesis\n",
      "There is significant evidence that the population means are different.\n"
     ]
    }
   ],
   "source": [
    "import numpy as np\n",
    "from scipy import stats\n",
    "\n",
    "# Generate sample data for two populations\n",
    "np.random.seed(42)\n",
    "sample_size = 30\n",
    "#for population - 1\n",
    "population_mean1 = 65  \n",
    "population_std_dev1 = 5 \n",
    "sample1 = np.random.normal(population_mean1, population_std_dev1, sample_size)\n",
    "# for population - 2\n",
    "population_mean2 = 60 \n",
    "population_std_dev2 = 6  \n",
    "sample2 = np.random.normal(population_mean2, population_std_dev2, sample_size)\n",
    "\n",
    "# Perform independent two-sample t-test\n",
    "t_statistic, p_value = stats.ttest_ind(sample1, sample2)\n",
    "\n",
    "alpha = 0.05  # Significance level\n",
    "\n",
    "print(\"Independent Two-Sample T-Test:\")\n",
    "print(f\"T-Statistic: {t_statistic}\")\n",
    "print(f\"P-Value: {p_value}\")\n",
    "\n",
    "if p_value < alpha:\n",
    "    print(\"Reject the null hypothesis\")\n",
    "    print(\"There is significant evidence that the population means are different.\")\n",
    "else:\n",
    "    print(\"Fail to reject the null hypothesis\")\n",
    "    print(\"There is not enough evidence to conclude that the population means are different.\")\n"
   ]
  },
  {
   "cell_type": "markdown",
   "id": "c208d0eb-8102-4dfd-aa20-65e1983928e9",
   "metadata": {},
   "source": [
    "## Q6: What is a null and alternative hypothesis? Give some examples."
   ]
  },
  {
   "cell_type": "markdown",
   "id": "59ec1929-8d0f-40d5-8338-4adbeeea43e8",
   "metadata": {},
   "source": [
    "The null hypothesis (H0) and the alternative hypothesis (H1) are two complementary statements used in hypothesis testing to make decisions about population parameters based on sample data. These hypotheses represent opposing viewpoints about the phenomenon being studied.\n",
    "\n",
    "* Null Hypothesis (H0):\n",
    "The null hypothesis is the default or conservative assumption. It usually states that there is no effect, no difference, or no relationship between variables in the population. I\n",
    "\n",
    "Examples of null hypotheses:\n",
    "\n",
    "1. The average IQ score of students who received tutoring is the same as those who didn't.\n",
    "2. The new drug has no effect on reducing blood pressure.\n",
    "3. The mean height of men is equal to the mean height of women.\n",
    "\n",
    "* Alternative Hypothesis (H1 or Ha):\n",
    "The alternative hypothesis contradicts the null hypothesis. It represents the researcher's claim or the hypothesis they want to support with evidence. It asserts a specific effect, difference, or relationship between variables in the population.\n",
    "\n",
    "Examples of alternative hypotheses:\n",
    "\n",
    "1. The average IQ score of students who received tutoring is higher than those who didn't.\n",
    "2. The new drug significantly reduces blood pressure compared to the placebo.\n",
    "3. The mean height of men is greater than the mean height of women."
   ]
  },
  {
   "cell_type": "markdown",
   "id": "b669ac2e-4cd3-4115-afa7-7283e34b1082",
   "metadata": {},
   "source": [
    "## Q7: Write down the steps involved in hypothesis testing."
   ]
  },
  {
   "cell_type": "markdown",
   "id": "d50fd44c-df84-4639-bdee-50783ba23d40",
   "metadata": {},
   "source": [
    "Hypothesis testing involves a structured process of making decisions about population parameters based on sample data. Here are the general steps involved in hypothesis testing:\n",
    "\n",
    "1. Formulate Hypotheses:\n",
    "Null Hypothesis (H0): State the default assumption, often indicating no effect, no difference, or no relationship.\n",
    "Alternative Hypothesis (H1 or Ha): State the specific claim or effect you're interested in demonstrating.\n",
    "\n",
    "2. Choose Significance Level (Alpha):\n",
    "Select a significance level (alpha) to determine the threshold for considering evidence against the null hypothesis. Common choices are 0.05, 0.01, etc.\n",
    "\n",
    "3. Collect and Analyze Data:\n",
    "Collect relevant sample data for the populations you're studying.\n",
    "Calculate appropriate summary statistics (e.g., sample mean, sample standard deviation) from the data.\n",
    "\n",
    "4. Choose Appropriate Test:\n",
    "Select the appropriate statistical test based on factors like the type of data, sample size, and the research question. Common tests include t-tests, ANOVA, chi-square tests, etc.\n",
    "\n",
    "5. Calculate Test Statistic:\n",
    "Calculate the test statistic based on the chosen statistical test. The test statistic quantifies the difference between the sample data and what would be expected under the null hypothesis.\n",
    "\n",
    "6. Determine P-Value:\n",
    "Calculate the p-value, which represents the probability of observing results as extreme as those in the sample, assuming the null hypothesis is true.\n",
    "\n",
    "7. Compare P-Value and Alpha:\n",
    "Compare the calculated p-value to the chosen significance level (alpha).\n",
    "If p-value < alpha, there is strong evidence against the null hypothesis. Consider rejecting the null hypothesis.\n",
    "If p-value ≥ alpha, there is not enough evidence to reject the null hypothesis.\n",
    "\n",
    "8. Make a Decision:\n",
    "If you reject the null hypothesis, you accept the alternative hypothesis and conclude that there is significant evidence supporting the effect or claim.\n",
    "If you fail to reject the null hypothesis, you do not have enough evidence to support the alternative hypothesis.\n",
    "\n",
    "9. Draw Conclusions:\n",
    "Summarize the findings in the context of the research question.\n",
    "Clearly state the conclusions, including whether you accept or reject the null hypothesis and any implications for the population.\n",
    "\n",
    "10. Consider Limitations:\n",
    "Acknowledge potential limitations of the study, including sample size, assumptions, and any sources of bias.\n",
    "\n",
    "11. Report Results:\n",
    "Present the results in a clear and understandable manner, including relevant statistics, p-values, and conclusions.\n",
    "Remember that hypothesis testing is a structured process that helps you make informed decisions based on evidence from your data. The specific steps may vary slightly depending on the type of test and the nature of the research question.\n"
   ]
  },
  {
   "cell_type": "markdown",
   "id": "f80d0901-20ed-482e-841c-13c82dfcd347",
   "metadata": {},
   "source": [
    "## Q8. Define p-value and explain its significance in hypothesis testing."
   ]
  },
  {
   "cell_type": "markdown",
   "id": "ed1cbb44-0b1c-4e9f-9086-cd9a521c06ad",
   "metadata": {},
   "source": [
    "The p-value, short for \"probability value,\" is a crucial concept in hypothesis testing. It quantifies the strength of evidence against the null hypothesis and helps us to make informed decisions about whether to accept or reject the null hypothesis based on sample data.\n",
    "\n",
    "In hypothesis testing, the p-value represents the probability of observing results as extreme as those in the sample, assuming that the null hypothesis is true. In other words, it indicates how likely it is to obtain the observed data if there is no real effect, difference, or relationship in the population.\n",
    "\n",
    "The significance of the p-value in hypothesis testing:\n",
    "\n",
    "1. Decision Rule: The p-value serves as a critical component in the decision-making process. You compare the calculated p-value to the chosen significance level (alpha) to determine whether there is enough evidence to reject the null hypothesis. If the p-value is smaller than alpha, you may reject the null hypothesis. If the p-value is larger than alpha, we may fail to reject the null hypothesis.\n",
    "\n",
    "2. Strength of Evidence: A small p-value (typically less than or equal to the chosen alpha level) suggests that the observed data is unlikely to have occurred by random chance alone, assuming the null hypothesis is true. This provides stronger evidence against the null hypothesis and supports the alternative hypothesis.\n",
    "\n",
    "3. Effect Size and Sample Size: The p-value does not directly provide information about the magnitude of the effect or the practical significance of the results. It only tells us whether the effect is statistically significant. An effect might be statistically significant with a large sample size, even if it is practically small.\n",
    "\n",
    "4. Contextual Interpretation: Interpreting the p-value requires considering the context of the research question, the field of study, and the potential consequences of making a wrong decision (Type I or Type II error).\n",
    "\n",
    "5. Inference about the Population: A small p-value indicates that the observed sample data provides strong evidence that the effect observed in the sample is likely to be present in the larger population.\n"
   ]
  },
  {
   "cell_type": "markdown",
   "id": "10a558d4-949c-4972-abe2-65f09d5aecf6",
   "metadata": {},
   "source": [
    "## Q9. Generate a Student's t-distribution plot using Python's matplotlib library, with the degrees of freedom parameter set to 10."
   ]
  },
  {
   "cell_type": "code",
   "execution_count": 1,
   "id": "e927a528-851d-4ce2-8b81-f9daa0c938d9",
   "metadata": {},
   "outputs": [
    {
     "data": {
      "image/png": "[encoded data removed]",
      "text/plain": [
       "<Figure size 800x600 with 1 Axes>"
      ]
     },
     "metadata": {},
     "output_type": "display_data"
    }
   ],
   "source": [
    "import numpy as np\n",
    "import matplotlib.pyplot as plt\n",
    "from scipy.stats import t\n",
    "\n",
    "df = 10  # Degrees of freedom\n",
    "\n",
    "# Generate data points for the x-axis\n",
    "x = np.linspace(-4, 4, 400)\n",
    "\n",
    "# PDF of the t-distribution\n",
    "pdf = t.pdf(x, df)\n",
    "\n",
    "# Create the plot\n",
    "plt.figure(figsize=(8, 6))\n",
    "plt.plot(x, pdf, label=f't-distribution (df={df})')\n",
    "\n",
    "plt.title(f\"Student's t-Distribution (Degrees of Freedom = {df})\")\n",
    "plt.xlabel('x')\n",
    "plt.ylabel('Probability Density')\n",
    "plt.legend()\n",
    "plt.grid(True)\n",
    "plt.show()\n"
   ]
  },
  {
   "cell_type": "markdown",
   "id": "a3bf4e6c-4f44-41c2-a3ed-143c7f586451",
   "metadata": {},
   "source": [
    "## Q10. Write a Python program to calculate the two-sample t-test for independent samples, given two random samples of equal size and a null hypothesis that the population means are equal."
   ]
  },
  {
   "cell_type": "code",
   "execution_count": 3,
   "id": "9a6394e6-a0f8-44ff-bdbd-1b07f3914bc7",
   "metadata": {},
   "outputs": [
    {
     "name": "stdout",
     "output_type": "stream",
     "text": [
      "Sample 1: mean=9.54905218948772, std=1.8485698757448488\n",
      "Sample 2: mean=12.035561740935904, std=1.7310751572980254\n",
      "t-statistic: -6.872731683285841\n",
      "p-value: 5.877565294167719e-10\n",
      "Reject the null hypothesis: the two Population means are not equal.\n"
     ]
    }
   ],
   "source": [
    "import numpy as np\n",
    "from scipy.stats import ttest_ind\n",
    "\n",
    "# Generate two random samples of equal size\n",
    "np.random.seed(42)  # for reproducibility\n",
    "sample1 = np.random.normal(loc=10, scale=2, size=50)\n",
    "sample2 = np.random.normal(loc=12, scale=2, size=50)\n",
    "\n",
    "# two-sample t-test\n",
    "t_statistic, p_value = ttest_ind(sample1, sample2)\n",
    "\n",
    "# Define significance level\n",
    "alpha = 0.05\n",
    "\n",
    "#result\n",
    "print(f\"Sample 1: mean={np.mean(sample1)}, std={np.std(sample1)}\")\n",
    "print(f\"Sample 2: mean={np.mean(sample2)}, std={np.std(sample2)}\")\n",
    "print(f\"t-statistic: {t_statistic}\")\n",
    "print(f\"p-value: {p_value}\")\n",
    "\n",
    "# Check if p-value is less than alpha\n",
    "if p_value < alpha:\n",
    "    print(\"Reject the null hypothesis: the two Population means are not equal.\")\n",
    "else:\n",
    "    print(\"Fail to reject the null hypothesis: two Population means are equal.\")\n"
   ]
  },
  {
   "cell_type": "markdown",
   "id": "db34b773-544a-4cda-a210-a6d4f4261aae",
   "metadata": {},
   "source": [
    "## Q11: What is Student’s t distribution? When to use the t-Distribution."
   ]
  },
  {
   "cell_type": "markdown",
   "id": "14a7a8be-1b4c-428e-80ab-227a4dfa24be",
   "metadata": {},
   "source": [
    "Student's t-distribution, often referred to simply as the t-distribution, is a probability distribution that arises when estimating the population mean of a normally distributed population based on a small sample size. It is used as a statistical tool in hypothesis testing, confidence interval estimation, and other inferential statistical analyses.\n",
    "\n",
    "When to use the t-distribution:\n",
    "1. Small Sample Sizes: The t-distribution is especially useful when dealing with small sample sizes (typically less than 30). When sample sizes are small, the sample standard deviation tends to underestimate the population standard deviation, and the t-distribution accounts for this increased uncertainty.\n",
    "\n",
    "2. Unknown Population Variance: When the population standard deviation is unknown and must be estimated from the sample data, the t-distribution should be used.\n",
    "\n",
    "3. Hypothesis Testing: The t-distribution is commonly used in hypothesis testing, particularly when comparing means of two independent samples (two-sample t-test) or when comparing the mean of a sample to a known value (one-sample t-test).\n",
    "\n",
    "4. Confidence Intervals: When constructing confidence intervals for population parameters, such as the population mean, the t-distribution is used to account for the uncertainty due to the sample size."
   ]
  },
  {
   "cell_type": "markdown",
   "id": "2675c27c-9806-4d9a-8ad8-c36a1c453c96",
   "metadata": {},
   "source": [
    "## Q12: What is t-statistic? State the formula for t-statistic."
   ]
  },
  {
   "cell_type": "markdown",
   "id": "3449a308-a34a-43fc-9780-e53123bb32b7",
   "metadata": {},
   "source": [
    "The t-statistic (also known as the t-value) is a measure used in hypothesis testing to assess whether the means of two groups are significantly different from each other. It compares the difference between the sample means to the variability within the samples. In other words, it quantifies how many standard errors the sample mean difference is away from the expected mean difference under the null hypothesis.\n",
    "\n",
    "The formula for calculating the t-statistic for two independent samples (unpaired samples) is as follows:\n",
    "t = (X‾ - μ0) / (s / √n), \n",
    "where X‾ is the sample mean, μ0 represents the population mean, s is the standard deviation of the sample and n stands for the size of the sample."
   ]
  },
  {
   "cell_type": "markdown",
   "id": "9f17baa4-fa3e-43c5-b517-283e2d58cecf",
   "metadata": {},
   "source": [
    "## Q13. A coffee shop owner wants to estimate the average daily revenue for their shop. They take a random sample of 50 days and find the sample mean revenue to be $500 with a standard deviation of $50. Estimate the population mean revenue with a 95% confidence interval."
   ]
  },
  {
   "cell_type": "code",
   "execution_count": 6,
   "id": "3bf7f19d-4ac5-4465-a5c1-72d2e3e3e67a",
   "metadata": {},
   "outputs": [
    {
     "name": "stdout",
     "output_type": "stream",
     "text": [
      "Confidence Interval: ($485.86, $514.14)\n"
     ]
    }
   ],
   "source": [
    "import numpy as np\n",
    "from scipy.stats import t\n",
    "\n",
    "sample_mean = 500\n",
    "sample_std_dev = 50\n",
    "sample_size = 50\n",
    "confidence_level = 0.95\n",
    "\n",
    "# Calculate the critical value (approximate value)\n",
    "critical_value = 2.0\n",
    "\n",
    "# Since we're looking for a 95% confidence interval, we need to find the critical value that corresponds to a 2.5% lower tail and a 97.5% upper tail of the t-distribution. The degrees of freedom will be  n−1=50−1=49.\n",
    "\n",
    "# Calculate the margin of error\n",
    "margin_of_error = critical_value * (sample_std_dev / np.sqrt(sample_size))\n",
    "\n",
    "# Calculate the confidence interval\n",
    "confidence_interval_lower = sample_mean - margin_of_error\n",
    "confidence_interval_upper = sample_mean + margin_of_error\n",
    "\n",
    "print(f\"Confidence Interval: (${confidence_interval_lower:.2f}, ${confidence_interval_upper:.2f})\")\n"
   ]
  },
  {
   "cell_type": "markdown",
   "id": "6f5a3ce0-261b-40a8-a156-cd562cdc13da",
   "metadata": {},
   "source": [
    "## Q14. A researcher hypothesizes that a new drug will decrease blood pressure by 10 mmHg. They conduct aclinical trial with 100 patients and find that the sample mean decrease in blood pressure is 8 mmHg with a standard deviation of 3 mmHg. Test the hypothesis with a significance level of 0.05."
   ]
  },
  {
   "cell_type": "code",
   "execution_count": 8,
   "id": "9994160e-8c21-4534-b8ec-dc0135ce81d5",
   "metadata": {},
   "outputs": [
    {
     "name": "stdout",
     "output_type": "stream",
     "text": [
      "Calculated t-statistic: -6.666666666666667\n",
      "Critical value from t-distribution: -1.6603911559963902\n",
      "Reject the null hypothesis. The new drug has a significant effect on decreasing blood pressure.\n"
     ]
    }
   ],
   "source": [
    "import numpy as np\n",
    "from scipy.stats import t\n",
    "\n",
    "sample_mean = 8\n",
    "sample_std_dev = 3\n",
    "sample_size = 100\n",
    "hypothesized_mean = 10\n",
    "significance_level = 0.05\n",
    "degrees_of_freedom = sample_size - 1\n",
    "\n",
    "# t-test statistic\n",
    "t_statistic = (sample_mean - hypothesized_mean) / (sample_std_dev / np.sqrt(sample_size))\n",
    "\n",
    "# Calculate the critical value from the t-distribution\n",
    "critical_value = t.ppf(significance_level, degrees_of_freedom)\n",
    "\n",
    "print(f\"Calculated t-statistic: {t_statistic}\")\n",
    "print(f\"Critical value from t-distribution: {critical_value}\")\n",
    "\n",
    "# the hypothesis test\n",
    "if t_statistic < critical_value:\n",
    "    print(\"Reject the null hypothesis. The new drug has a significant effect on decreasing blood pressure.\")\n",
    "else:\n",
    "    print(\"Fail to reject the null hypothesis. There is not enough evidence to conclude a significant effect.\")\n"
   ]
  },
  {
   "cell_type": "markdown",
   "id": "23019df7-9012-4e8a-9db8-8faeacf8e074",
   "metadata": {},
   "source": [
    "## Q15. An electronics company produces a certain type of product with a mean weight of 5 pounds and a standard deviation of 0.5 pounds. A random sample of 25 products is taken, and the sample mean weight is found to be 4.8 pounds. Test the hypothesis that the true mean weight of the products is less than 5 pounds with a significance level of 0.01."
   ]
  },
  {
   "cell_type": "code",
   "execution_count": 9,
   "id": "f4b25bc4-f3e3-42a4-93ee-d38075acd284",
   "metadata": {},
   "outputs": [
    {
     "name": "stdout",
     "output_type": "stream",
     "text": [
      "Calculated t-statistic: -2.0000000000000018\n",
      "Critical value from t-distribution: -2.4921594731575762\n",
      "Fail to reject the null hypothesis. There is not enough evidence to conclude a mean weight less than 5 pounds.\n"
     ]
    }
   ],
   "source": [
    "import numpy as np\n",
    "from scipy.stats import t\n",
    "\n",
    "sample_mean = 4.8\n",
    "population_std_dev = 0.5\n",
    "sample_size = 25\n",
    "hypothesized_mean = 5\n",
    "significance_level = 0.01\n",
    "degrees_of_freedom = sample_size - 1\n",
    "\n",
    "# t-test statistic\n",
    "t_statistic = (sample_mean - hypothesized_mean) / (population_std_dev / np.sqrt(sample_size))\n",
    "\n",
    "# Calculate the critical value from the t-distribution\n",
    "critical_value = t.ppf(significance_level, degrees_of_freedom)\n",
    "\n",
    "print(f\"Calculated t-statistic: {t_statistic}\")\n",
    "print(f\"Critical value from t-distribution: {critical_value}\")\n",
    "\n",
    "# the hypothesis test\n",
    "if t_statistic < critical_value:\n",
    "    print(\"Reject the null hypothesis. There is enough evidence to conclude that the true mean weight is less than 5 pounds.\")\n",
    "else:\n",
    "    print(\"Fail to reject the null hypothesis. There is not enough evidence to conclude a mean weight less than 5 pounds.\")\n"
   ]
  },
  {
   "cell_type": "markdown",
   "id": "223ec291-dd18-49b3-9437-4e087693075f",
   "metadata": {},
   "source": [
    "## Q16. Two groups of students are given different study materials to prepare for a test. The first group (n1 = 30) has a mean score of 80 with a standard deviation of 10, and the second group (n2 = 40) has a mean score of 75 with a standard deviation of 8. Test the hypothesis that the population means for the two groups are equal with a significance level of 0.01."
   ]
  },
  {
   "cell_type": "code",
   "execution_count": 10,
   "id": "fe4ea90d-5940-41a3-bd28-343c6305e063",
   "metadata": {},
   "outputs": [
    {
     "name": "stdout",
     "output_type": "stream",
     "text": [
      "Calculated t-statistic: 2.2511258444537408\n",
      "Critical value from t-distribution: 2.6500812928169553\n",
      "Fail to reject the null hypothesis. There is not enough evidence to conclude unequal population means.\n"
     ]
    }
   ],
   "source": [
    "import numpy as np\n",
    "from scipy.stats import t\n",
    "\n",
    "sample_mean1 = 80\n",
    "sample_std_dev1 = 10\n",
    "sample_size1 = 30\n",
    "\n",
    "sample_mean2 = 75\n",
    "sample_std_dev2 = 8\n",
    "sample_size2 = 40\n",
    "\n",
    "significance_level = 0.01\n",
    "degrees_of_freedom = sample_size1 + sample_size2 - 2\n",
    "\n",
    "# t-test statistic\n",
    "t_statistic = (sample_mean1 - sample_mean2) / np.sqrt((sample_std_dev1**2 / sample_size1) + (sample_std_dev2**2 / sample_size2))\n",
    "\n",
    "# Calculate the critical value from the t-distribution fro two_tailed test\n",
    "critical_value = t.ppf(1 - significance_level/2, degrees_of_freedom) \n",
    "\n",
    "print(f\"Calculated t-statistic: {t_statistic}\")\n",
    "print(f\"Critical value from t-distribution: {critical_value}\")\n",
    "\n",
    "# the hypothesis test\n",
    "if abs(t_statistic) > critical_value:\n",
    "    print(\"Reject the null hypothesis. There is enough evidence to conclude that the population means are not equal.\")\n",
    "else:\n",
    "    print(\"Fail to reject the null hypothesis. There is not enough evidence to conclude unequal population means.\")\n"
   ]
  },
  {
   "cell_type": "markdown",
   "id": "038acf06-7439-4f23-85c0-d43180594fca",
   "metadata": {},
   "source": [
    "## Q17. A marketing company wants to estimate the average number of ads watched by viewers during a TV program. They take a random sample of 50 viewers and find that the sample mean is 4 with a standard deviation of 1.5. Estimate the population mean with a 99% confidence interval."
   ]
  },
  {
   "cell_type": "code",
   "execution_count": 12,
   "id": "06ad0091-da4a-457a-87e9-b35891a9a683",
   "metadata": {},
   "outputs": [
    {
     "name": "stdout",
     "output_type": "stream",
     "text": [
      "Confidence Interval: (3.43, 4.57)\n"
     ]
    }
   ],
   "source": [
    "import numpy as np\n",
    "from scipy.stats import t\n",
    "\n",
    "sample_mean = 4\n",
    "sample_std_dev = 1.5\n",
    "sample_size = 50\n",
    "confidence_level = 0.99\n",
    "\n",
    "# Calculate the critical value (two-tailed)\n",
    "critical_value = t.ppf(1 - (1 - confidence_level) / 2, df=sample_size - 1)\n",
    "\n",
    "# Calculate the margin of error\n",
    "margin_of_error = critical_value * (sample_std_dev / np.sqrt(sample_size))\n",
    "\n",
    "# Calculate the confidence interval\n",
    "confidence_interval_lower = sample_mean - margin_of_error\n",
    "confidence_interval_upper = sample_mean + margin_of_error\n",
    "\n",
    "print(f\"Confidence Interval: ({confidence_interval_lower:.2f}, {confidence_interval_upper:.2f})\")\n"
   ]
  }
 ],
 "metadata": {
  "kernelspec": {
   "display_name": "Python 3 (ipykernel)",
   "language": "python",
   "name": "python3"
  },
  "language_info": {
   "codemirror_mode": {
    "name": "ipython",
    "version": 3
   },
   "file_extension": ".py",
   "mimetype": "text/x-python",
   "name": "python",
   "nbconvert_exporter": "python",
   "pygments_lexer": "ipython3",
   "version": "3.10.8"
  }
 },
 "nbformat": 4,
 "nbformat_minor": 5
}
